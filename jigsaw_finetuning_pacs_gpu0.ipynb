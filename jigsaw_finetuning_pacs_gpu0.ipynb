{
 "cells": [
  {
   "cell_type": "code",
   "execution_count": null,
   "metadata": {},
   "outputs": [],
   "source": [
    "import torch\n",
    "\n",
    "from data import data_helper\n",
    "from data.data_helper import available_datasets\n",
    "from models import model_factory\n",
    "from optimizer.optimizer_helper import get_optim_and_scheduler\n",
    "from torch.nn import functional as F\n",
    "from torch import nn\n",
    "\n",
    "from utils.Logger import Logger\n",
    "\n",
    "import torchvision\n",
    "import matplotlib.pyplot as plt\n",
    "\n",
    "# from train_jigsaw import do_training\n",
    "from utils import vis\n",
    "\n",
    "class Container():\n",
    "    pass\n",
    "\n",
    "args = Container()\n",
    "args.batch_size = 128\n",
    "args.jigsaw_n_classes = 31\n",
    "args.n_classes = 7\n",
    "args.learning_rate = 0.001\n",
    "args.epochs = 30\n",
    "args.source = [\"sketch\", \"art_painting\", \"photo\"]\n",
    "args.target = \"cartoon\" # source[target_id]\n",
    "args.network = \"caffenet\"\n",
    "args.jig_weight = 0.2\n",
    "\n",
    "device = torch.device(\"cuda:0\" if torch.cuda.is_available() else \"cpu\")"
   ]
  },
  {
   "cell_type": "code",
   "execution_count": null,
   "metadata": {
    "scrolled": true
   },
   "outputs": [
    {
     "name": "stdout",
     "output_type": "stream",
     "text": [
      "Using Caffe AlexNet\n",
      "AlexNetCaffe(\n",
      "  (features): Sequential(\n",
      "    (conv1): Conv2d(3, 96, kernel_size=(11, 11), stride=(4, 4))\n",
      "    (relu1): ReLU(inplace)\n",
      "    (pool1): MaxPool2d(kernel_size=3, stride=2, padding=0, dilation=1, ceil_mode=True)\n",
      "    (norm1): LocalResponseNorm(5, alpha=0.0001, beta=0.75, k=1)\n",
      "    (conv2): Conv2d(96, 256, kernel_size=(5, 5), stride=(1, 1), padding=(2, 2), groups=2)\n",
      "    (relu2): ReLU(inplace)\n",
      "    (pool2): MaxPool2d(kernel_size=3, stride=2, padding=0, dilation=1, ceil_mode=True)\n",
      "    (norm2): LocalResponseNorm(5, alpha=0.0001, beta=0.75, k=1)\n",
      "    (conv3): Conv2d(256, 384, kernel_size=(3, 3), stride=(1, 1), padding=(1, 1))\n",
      "    (relu3): ReLU(inplace)\n",
      "    (conv4): Conv2d(384, 384, kernel_size=(3, 3), stride=(1, 1), padding=(1, 1), groups=2)\n",
      "    (relu4): ReLU(inplace)\n",
      "    (conv5): Conv2d(384, 256, kernel_size=(3, 3), stride=(1, 1), padding=(1, 1), groups=2)\n",
      "    (relu5): ReLU(inplace)\n",
      "    (pool5): MaxPool2d(kernel_size=3, stride=2, padding=0, dilation=1, ceil_mode=True)\n",
      "  )\n",
      "  (classifier): Sequential(\n",
      "    (fc6): Linear(in_features=9216, out_features=4096, bias=True)\n",
      "    (relu6): ReLU(inplace)\n",
      "    (drop6): Dropout(p=0.5)\n",
      "    (fc7): Linear(in_features=4096, out_features=4096, bias=True)\n",
      "    (relu7): ReLU(inplace)\n",
      "    (drop7): Dropout(p=0.5)\n",
      "  )\n",
      "  (jigsaw_classifier): Linear(in_features=4096, out_features=32, bias=True)\n",
      "  (class_classifier): Linear(in_features=4096, out_features=7, bias=True)\n",
      ")\n",
      "Using multiple sources\n",
      "Step size: 24\n",
      "Saving to /home/enoon/code/2018/JigsawDA/myJigsaw/utils/../logs/sketch-art_painting-photo_to_cartoon/eps30_bs128_lr0.001_class7_jigClass31_jigWeight0.2_336\n",
      "New epoch - lr: 0.0, 0.001\n",
      "0/59 of epoch 1/30 jigsaw : 3.525784, class : 1.973145 - acc jigsaw : 0.023438, class : 0.109375 [bs:128]\n",
      "10/59 of epoch 1/30 jigsaw : 3.501585, class : 1.275481 - acc jigsaw : 0.039062, class : 0.484375 [bs:128]\n",
      "20/59 of epoch 1/30 jigsaw : 3.496825, class : 1.159201 - acc jigsaw : 0.062500, class : 0.546875 [bs:128]\n",
      "30/59 of epoch 1/30 jigsaw : 3.442081, class : 1.191534 - acc jigsaw : 0.054688, class : 0.554688 [bs:128]\n",
      "40/59 of epoch 1/30 jigsaw : 3.381103, class : 1.161453 - acc jigsaw : 0.078125, class : 0.546875 [bs:128]\n",
      "50/59 of epoch 1/30 jigsaw : 3.407791, class : 1.164848 - acc jigsaw : 0.070312, class : 0.507812 [bs:128]\n",
      "Accuracies on target: jigsaw : 0.105375, class : 0.476109\n",
      "New epoch - lr: 0.0, 0.001\n",
      "0/59 of epoch 2/30 jigsaw : 3.376532, class : 0.965602 - acc jigsaw : 0.031250, class : 0.625000 [bs:128]\n",
      "10/59 of epoch 2/30 jigsaw : 3.343836, class : 0.994446 - acc jigsaw : 0.109375, class : 0.609375 [bs:128]\n",
      "20/59 of epoch 2/30 jigsaw : 3.376024, class : 0.987886 - acc jigsaw : 0.093750, class : 0.625000 [bs:128]\n",
      "30/59 of epoch 2/30 jigsaw : 3.247132, class : 1.056299 - acc jigsaw : 0.132812, class : 0.570312 [bs:128]\n",
      "40/59 of epoch 2/30 jigsaw : 3.263679, class : 0.863246 - acc jigsaw : 0.101562, class : 0.656250 [bs:128]\n",
      "50/59 of epoch 2/30 jigsaw : 3.263881, class : 0.998887 - acc jigsaw : 0.132812, class : 0.562500 [bs:128]\n",
      "Accuracies on target: jigsaw : 0.381399, class : 0.469710\n",
      "New epoch - lr: 0.0, 0.001\n",
      "0/59 of epoch 3/30 jigsaw : 3.276827, class : 0.909243 - acc jigsaw : 0.132812, class : 0.648438 [bs:128]\n",
      "10/59 of epoch 3/30 jigsaw : 3.216896, class : 0.966620 - acc jigsaw : 0.140625, class : 0.625000 [bs:128]\n",
      "20/59 of epoch 3/30 jigsaw : 3.231402, class : 0.905990 - acc jigsaw : 0.125000, class : 0.640625 [bs:128]\n",
      "30/59 of epoch 3/30 jigsaw : 3.122728, class : 0.945979 - acc jigsaw : 0.156250, class : 0.625000 [bs:128]\n",
      "40/59 of epoch 3/30 jigsaw : 3.144154, class : 0.788149 - acc jigsaw : 0.140625, class : 0.679688 [bs:128]\n",
      "50/59 of epoch 3/30 jigsaw : 3.141317, class : 0.957074 - acc jigsaw : 0.140625, class : 0.664062 [bs:128]\n",
      "Accuracies on target: jigsaw : 0.356655, class : 0.464164\n",
      "New epoch - lr: 0.0, 0.001\n",
      "0/59 of epoch 4/30 jigsaw : 3.197781, class : 0.921017 - acc jigsaw : 0.132812, class : 0.632812 [bs:128]\n",
      "10/59 of epoch 4/30 jigsaw : 3.079491, class : 0.886503 - acc jigsaw : 0.234375, class : 0.648438 [bs:128]\n",
      "20/59 of epoch 4/30 jigsaw : 3.127777, class : 0.870852 - acc jigsaw : 0.140625, class : 0.679688 [bs:128]\n",
      "30/59 of epoch 4/30 jigsaw : 2.967606, class : 0.832171 - acc jigsaw : 0.242188, class : 0.710938 [bs:128]\n",
      "40/59 of epoch 4/30 jigsaw : 3.114873, class : 0.929630 - acc jigsaw : 0.148438, class : 0.648438 [bs:128]\n",
      "50/59 of epoch 4/30 jigsaw : 3.060443, class : 0.944799 - acc jigsaw : 0.156250, class : 0.664062 [bs:128]\n",
      "Accuracies on target: jigsaw : 0.363055, class : 0.473123\n",
      "New epoch - lr: 0.0, 0.001\n",
      "0/59 of epoch 5/30 jigsaw : 3.012620, class : 0.808351 - acc jigsaw : 0.203125, class : 0.765625 [bs:128]\n",
      "10/59 of epoch 5/30 jigsaw : 3.016154, class : 0.762204 - acc jigsaw : 0.195312, class : 0.718750 [bs:128]\n",
      "20/59 of epoch 5/30 jigsaw : 3.067221, class : 0.771949 - acc jigsaw : 0.187500, class : 0.718750 [bs:128]\n",
      "30/59 of epoch 5/30 jigsaw : 2.924425, class : 0.762847 - acc jigsaw : 0.187500, class : 0.718750 [bs:128]\n",
      "40/59 of epoch 5/30 jigsaw : 2.998693, class : 1.033179 - acc jigsaw : 0.210938, class : 0.625000 [bs:128]\n",
      "50/59 of epoch 5/30 jigsaw : 2.893989, class : 0.963418 - acc jigsaw : 0.171875, class : 0.617188 [bs:128]\n",
      "Accuracies on target: jigsaw : 0.348549, class : 0.517491\n",
      "New epoch - lr: 0.0, 0.001\n",
      "0/59 of epoch 6/30 jigsaw : 2.848795, class : 0.802235 - acc jigsaw : 0.226562, class : 0.648438 [bs:128]\n",
      "10/59 of epoch 6/30 jigsaw : 2.876323, class : 0.922051 - acc jigsaw : 0.250000, class : 0.656250 [bs:128]\n",
      "20/59 of epoch 6/30 jigsaw : 2.898651, class : 0.973403 - acc jigsaw : 0.203125, class : 0.601562 [bs:128]\n",
      "30/59 of epoch 6/30 jigsaw : 2.824002, class : 0.859085 - acc jigsaw : 0.242188, class : 0.710938 [bs:128]\n",
      "40/59 of epoch 6/30 jigsaw : 2.789639, class : 0.801614 - acc jigsaw : 0.328125, class : 0.664062 [bs:128]\n",
      "50/59 of epoch 6/30 jigsaw : 2.766966, class : 0.649057 - acc jigsaw : 0.250000, class : 0.750000 [bs:128]\n",
      "Accuracies on target: jigsaw : 0.359642, class : 0.514078\n",
      "New epoch - lr: 0.0, 0.001\n",
      "0/59 of epoch 7/30 jigsaw : 2.831216, class : 0.820599 - acc jigsaw : 0.281250, class : 0.640625 [bs:128]\n",
      "10/59 of epoch 7/30 jigsaw : 2.698902, class : 0.665295 - acc jigsaw : 0.273438, class : 0.796875 [bs:128]\n",
      "20/59 of epoch 7/30 jigsaw : 2.821576, class : 0.786386 - acc jigsaw : 0.273438, class : 0.718750 [bs:128]\n",
      "30/59 of epoch 7/30 jigsaw : 2.738981, class : 0.907986 - acc jigsaw : 0.226562, class : 0.648438 [bs:128]\n",
      "40/59 of epoch 7/30 jigsaw : 2.642788, class : 0.724828 - acc jigsaw : 0.328125, class : 0.734375 [bs:128]\n",
      "50/59 of epoch 7/30 jigsaw : 2.807392, class : 0.614189 - acc jigsaw : 0.250000, class : 0.765625 [bs:128]\n",
      "Accuracies on target: jigsaw : 0.329352, class : 0.513225\n",
      "New epoch - lr: 0.0, 0.001\n",
      "0/59 of epoch 8/30 jigsaw : 2.755031, class : 0.685479 - acc jigsaw : 0.218750, class : 0.703125 [bs:128]\n",
      "10/59 of epoch 8/30 jigsaw : 2.679124, class : 0.831666 - acc jigsaw : 0.351562, class : 0.679688 [bs:128]\n",
      "20/59 of epoch 8/30 jigsaw : 2.751265, class : 0.835504 - acc jigsaw : 0.218750, class : 0.671875 [bs:128]\n",
      "30/59 of epoch 8/30 jigsaw : 2.566628, class : 0.769630 - acc jigsaw : 0.335938, class : 0.710938 [bs:128]\n",
      "40/59 of epoch 8/30 jigsaw : 2.605276, class : 0.828876 - acc jigsaw : 0.312500, class : 0.718750 [bs:128]\n",
      "50/59 of epoch 8/30 jigsaw : 2.717467, class : 0.914680 - acc jigsaw : 0.265625, class : 0.671875 [bs:128]\n",
      "Accuracies on target: jigsaw : 0.343003, class : 0.511945\n",
      "New epoch - lr: 0.0, 0.001\n",
      "0/59 of epoch 9/30 jigsaw : 2.601336, class : 0.916103 - acc jigsaw : 0.320312, class : 0.679688 [bs:128]\n",
      "10/59 of epoch 9/30 jigsaw : 2.551672, class : 0.836695 - acc jigsaw : 0.281250, class : 0.687500 [bs:128]\n",
      "20/59 of epoch 9/30 jigsaw : 2.582653, class : 0.831258 - acc jigsaw : 0.296875, class : 0.687500 [bs:128]\n",
      "30/59 of epoch 9/30 jigsaw : 2.534195, class : 0.775634 - acc jigsaw : 0.273438, class : 0.703125 [bs:128]\n",
      "40/59 of epoch 9/30 jigsaw : 2.434129, class : 0.620023 - acc jigsaw : 0.375000, class : 0.757812 [bs:128]\n",
      "50/59 of epoch 9/30 jigsaw : 2.568867, class : 0.691083 - acc jigsaw : 0.312500, class : 0.765625 [bs:128]\n",
      "Accuracies on target: jigsaw : 0.325085, class : 0.508106\n",
      "New epoch - lr: 0.0, 0.001\n",
      "0/59 of epoch 10/30 jigsaw : 2.501656, class : 0.775477 - acc jigsaw : 0.257812, class : 0.679688 [bs:128]\n"
     ]
    },
    {
     "name": "stdout",
     "output_type": "stream",
     "text": [
      "10/59 of epoch 10/30 jigsaw : 2.395061, class : 0.768375 - acc jigsaw : 0.351562, class : 0.710938 [bs:128]\n",
      "20/59 of epoch 10/30 jigsaw : 2.514771, class : 0.714442 - acc jigsaw : 0.335938, class : 0.750000 [bs:128]\n",
      "30/59 of epoch 10/30 jigsaw : 2.442014, class : 0.729634 - acc jigsaw : 0.367188, class : 0.703125 [bs:128]\n",
      "40/59 of epoch 10/30 jigsaw : 2.389648, class : 0.887835 - acc jigsaw : 0.359375, class : 0.640625 [bs:128]\n",
      "50/59 of epoch 10/30 jigsaw : 2.444208, class : 0.756592 - acc jigsaw : 0.382812, class : 0.718750 [bs:128]\n",
      "Accuracies on target: jigsaw : 0.311433, class : 0.520478\n",
      "New epoch - lr: 0.0, 0.001\n",
      "0/59 of epoch 11/30 jigsaw : 2.579501, class : 0.676656 - acc jigsaw : 0.210938, class : 0.710938 [bs:128]\n",
      "10/59 of epoch 11/30 jigsaw : 2.369328, class : 0.749263 - acc jigsaw : 0.375000, class : 0.734375 [bs:128]\n",
      "20/59 of epoch 11/30 jigsaw : 2.390487, class : 0.590402 - acc jigsaw : 0.328125, class : 0.742188 [bs:128]\n",
      "30/59 of epoch 11/30 jigsaw : 2.189309, class : 0.731985 - acc jigsaw : 0.406250, class : 0.750000 [bs:128]\n",
      "40/59 of epoch 11/30 jigsaw : 2.478057, class : 0.708782 - acc jigsaw : 0.328125, class : 0.742188 [bs:128]\n",
      "50/59 of epoch 11/30 jigsaw : 2.298897, class : 0.673142 - acc jigsaw : 0.429688, class : 0.781250 [bs:128]\n",
      "Accuracies on target: jigsaw : 0.317406, class : 0.523891\n",
      "New epoch - lr: 0.0, 0.001\n",
      "0/59 of epoch 12/30 jigsaw : 2.439105, class : 0.725567 - acc jigsaw : 0.335938, class : 0.718750 [bs:128]\n",
      "10/59 of epoch 12/30 jigsaw : 2.222385, class : 0.772754 - acc jigsaw : 0.500000, class : 0.687500 [bs:128]\n",
      "20/59 of epoch 12/30 jigsaw : 2.327495, class : 0.746933 - acc jigsaw : 0.351562, class : 0.687500 [bs:128]\n",
      "30/59 of epoch 12/30 jigsaw : 2.323034, class : 0.788965 - acc jigsaw : 0.351562, class : 0.718750 [bs:128]\n",
      "40/59 of epoch 12/30 jigsaw : 2.154238, class : 0.663932 - acc jigsaw : 0.421875, class : 0.742188 [bs:128]\n",
      "50/59 of epoch 12/30 jigsaw : 2.313148, class : 0.793753 - acc jigsaw : 0.359375, class : 0.703125 [bs:128]\n"
     ]
    }
   ],
   "source": [
    "from train_jigsaw import Trainer\n",
    "\n",
    "trainer = Trainer(args, device)\n",
    "logger, model = trainer.do_training()"
   ]
  },
  {
   "cell_type": "code",
   "execution_count": null,
   "metadata": {},
   "outputs": [],
   "source": [
    "dataloaders = {\"train\": data_helper.get_dataloader(args.source, args.jigsaw_n_classes, \"train\"),\n",
    "           \"val\": data_helper.get_dataloader(args.target, args.jigsaw_n_classes, \"val\")}\n",
    "dataset_sizes = {\"train\": len(dataloaders[\"train\"].dataset),\n",
    "                \"val\": len(dataloaders[\"val\"].dataset)}\n",
    "print(dataset_sizes)"
   ]
  },
  {
   "cell_type": "code",
   "execution_count": null,
   "metadata": {},
   "outputs": [],
   "source": [
    "def get_optim_and_scheduler(network, epochs, lr):\n",
    "    from torch import optim\n",
    "    optimizer = optim.SGD(network.get_params(lr), weight_decay=.0005, momentum=.9, nesterov=True, lr=lr)\n",
    "    step_size = int(epochs * .8)\n",
    "    scheduler = optim.lr_scheduler.StepLR(optimizer, step_size=step_size)\n",
    "    print(step_size)\n",
    "    return optimizer, scheduler\n",
    "\n",
    "model_ft = model_factory.get_network(\"caffenet\")(jigsaw_classes=args.jigsaw_n_classes+1, classes=args.n_classes)\n",
    "model_ft = model_ft.to(device)\n",
    "# print(model_ft)\n",
    "\n",
    "optimizer, scheduler = get_optim_and_scheduler(model_ft, args.epochs, args.learning_rate)"
   ]
  },
  {
   "cell_type": "code",
   "execution_count": null,
   "metadata": {},
   "outputs": [],
   "source": [
    "def do_epoch(model, source, target, optimizer, logger, device):\n",
    "    criterion = nn.CrossEntropyLoss()\n",
    "    model.train()\n",
    "    for it, ((data, jig_l, class_l), d_idx) in enumerate(source):\n",
    "        data, jig_l, class_l = data.to(device), jig_l.to(device), class_l.to(device)\n",
    "        \n",
    "        optimizer.zero_grad()\n",
    "        \n",
    "        jigsaw_logit, class_logit = model(data)\n",
    "        jigsaw_loss = criterion(jigsaw_logit, jig_l)\n",
    "        class_loss = criterion(class_logit[d_idx!=target_id], class_l[d_idx!=target_id])\n",
    "        _, cls_pred = class_logit.max(dim=1)\n",
    "        _, jig_pred = jigsaw_logit.max(dim=1)\n",
    "        loss = class_loss + jigsaw_loss * jig_weight\n",
    "        \n",
    "        loss.backward()\n",
    "        optimizer.step()\n",
    "\n",
    "        logger.log(it, len(source), {\"jigsaw\": jigsaw_loss.item(), \"class\": class_loss.item()},\n",
    "                  {\"jigsaw\": torch.sum(jig_pred == jig_l.data).item(), \"class\":torch.sum(cls_pred == class_l.data).item()},\n",
    "                  data.shape[0])\n",
    "        del loss, class_loss, jigsaw_loss, jigsaw_logit, class_logit\n",
    "\n",
    "    model.eval()\n",
    "    with torch.no_grad():\n",
    "        jigsaw_correct = 0\n",
    "        class_correct = 0\n",
    "        total = 0\n",
    "        for it, ((data, jig_l, class_l), d_idx) in enumerate(target):\n",
    "            data, jig_l, class_l = data.to(device), jig_l.to(device), class_l.to(device)\n",
    "            jigsaw_logit, class_logit = model(data)\n",
    "            _, cls_pred = class_logit.max(dim=1)\n",
    "            _, jig_pred = jigsaw_logit.max(dim=1)\n",
    "            class_correct += torch.sum(cls_pred == class_l.data)\n",
    "            jigsaw_correct += torch.sum(jig_pred == jig_l.data)\n",
    "            total += data.shape[0]\n",
    "        logger.log_test({\"jigsaw\": float(jigsaw_correct) / total,\n",
    "                         \"class\": float(class_correct) / total})\n",
    "\n",
    "\n",
    "def do_training(args, model, source, target, optimizer, scheduler, device):\n",
    "    logger = Logger(args)\n",
    "    for k in range(args.epochs):\n",
    "        scheduler.step()\n",
    "        logger.new_epoch(scheduler.get_lr())\n",
    "        do_epoch(model, source, target, optimizer, logger, device)\n",
    "    return logger, model"
   ]
  },
  {
   "cell_type": "code",
   "execution_count": null,
   "metadata": {
    "scrolled": true
   },
   "outputs": [],
   "source": [
    "jig_weight = args.jig_weight\n",
    "logger, model = do_training(args, model_ft, dataloaders[\"train\"], dataloaders[\"val\"], optimizer, scheduler, device)"
   ]
  },
  {
   "cell_type": "code",
   "execution_count": null,
   "metadata": {},
   "outputs": [],
   "source": [
    "%matplotlib notebook\n",
    "print(100*(logger.val_acc[\"class\"][-1] + logger.val_acc[\"class\"][-2])/2.)\n",
    "vis.view_training(logger, \"%s->%s eps:%d jigweight:%.1f\" % (\"-\".join(args.source),\n",
    "                                                            args.target,args.epochs, jig_weight))"
   ]
  },
  {
   "cell_type": "code",
   "execution_count": null,
   "metadata": {},
   "outputs": [],
   "source": [
    "fig, ax1 = plt.subplots()\n",
    "for k,v in logger.losses.items():\n",
    "    ax1.plot(v, label=k)\n",
    "    l = len(v)\n",
    "updates = l / len(logger.val_acc)\n",
    "print(updates)\n",
    "plt.legend()\n",
    "ax2 = ax1.twinx()\n",
    "ax2.plot(range(0,l,int(updates)), logger.val_acc, label=\"Test acc\", c='g')\n",
    "plt.legend()\n",
    "plt.title(\"%s->%s eps:%d jigweight:%.2f\" % (str(source),target,epochs, jig_weight))\n",
    "plt.show()"
   ]
  },
  {
   "cell_type": "code",
   "execution_count": null,
   "metadata": {},
   "outputs": [],
   "source": [
    "fig, ax1 = plt.subplots()\n",
    "for k,v in logger.losses.items():\n",
    "    ax1.plot(v, label=k)\n",
    "    l = len(v)\n",
    "updates = l / len(logger.val_acc)\n",
    "print(updates)\n",
    "plt.legend()\n",
    "ax2 = ax1.twinx()\n",
    "ax2.plot(range(0,l,int(updates)), logger.val_acc, label=\"Test acc\", c='g')\n",
    "plt.legend()\n",
    "plt.show()"
   ]
  },
  {
   "cell_type": "code",
   "execution_count": null,
   "metadata": {},
   "outputs": [],
   "source": [
    "def to_plt(inp):\n",
    "    inp = inp.numpy().transpose((1, 2, 0))\n",
    "    inp = np.clip(inp, 0, 1)\n",
    "    return inp\n",
    "\n",
    "conv1 = models.alexnet(pretrained=True).features[0] #model_ft.features[0]\n",
    "tmp = conv1.weight.cpu().data\n",
    "tmp = torchvision.utils.make_grid(tmp,normalize=True)\n",
    "plt.imshow(to_plt(tmp))\n",
    "plt.show()"
   ]
  },
  {
   "cell_type": "code",
   "execution_count": null,
   "metadata": {},
   "outputs": [],
   "source": [
    "import numpy as np\n",
    "\n",
    "conv1 = model_ft.features[0]\n",
    "tmp = conv1.weight.cpu().data\n",
    "tmp = torchvision.utils.make_grid(tmp,normalize=True)\n",
    "plt.imshow(to_plt(tmp))\n",
    "plt.show()"
   ]
  },
  {
   "cell_type": "code",
   "execution_count": null,
   "metadata": {},
   "outputs": [],
   "source": [
    "plt.plot(memory[\"train\"], label=\"train\")\n",
    "plt.plot(memory[\"val\"], label=\"val\")\n",
    "plt.show()"
   ]
  },
  {
   "cell_type": "code",
   "execution_count": null,
   "metadata": {
    "scrolled": true
   },
   "outputs": [],
   "source": [
    "\n",
    "\n",
    "\n",
    "# iter_c = iter(train_datasets)\n",
    "\n",
    "# for x in range(5):\n",
    "#     tmp = next(iter_c)\n",
    "#     image = to_plt(tmp[0])\n",
    "#     plt.imshow(image)\n",
    "#     plt.show()"
   ]
  },
  {
   "cell_type": "code",
   "execution_count": null,
   "metadata": {},
   "outputs": [],
   "source": []
  },
  {
   "cell_type": "code",
   "execution_count": null,
   "metadata": {
    "scrolled": false
   },
   "outputs": [],
   "source": [
    "from os.path import join, dirname\n",
    "# from data.JigsawLoader import JigsawTestDataset\n",
    "import torch\n",
    "import matplotlib.pyplot as plt\n",
    "import numpy as np\n",
    "\n",
    "\n",
    "def to_plt(inp):\n",
    "    inp = inp.numpy().transpose((1, 2, 0))\n",
    "#     mean = np.array([0.485, 0.456, 0.406])\n",
    "#     std = np.array([0.229, 0.224, 0.225])\n",
    "#     inp = std * inp + mean\n",
    "#     inp = np.clip(inp, 0, 1)\n",
    "    return inp\n",
    "\n",
    "# dataset = JigsawTestDataset(\"\", join('data/txt_lists', 'dslr_train.txt'), patches=False, classes=31)\n",
    "# test = torch.utils.data.DataLoader(dataset, batch_size=64, shuffle=True, num_workers=4, pin_memory=True, drop_last=False)\n",
    "iter_c = iter(data_helper.get_dataloader(\"photo\", 31, \"train\"))\n",
    "(tmp, v, c), d = next(iter_c)\n",
    "for x in range(10):\n",
    "    image = tmp[x]\n",
    "    image = torchvision.utils.make_grid(tmp[x],1,normalize=True)\n",
    "    plt.imshow(to_plt(image))\n",
    "    plt.show()\n",
    "    print(v[x],c[x])\n",
    "    \n",
    "print(v.max(), v.min())"
   ]
  },
  {
   "cell_type": "code",
   "execution_count": null,
   "metadata": {},
   "outputs": [],
   "source": [
    "v"
   ]
  },
  {
   "cell_type": "code",
   "execution_count": null,
   "metadata": {},
   "outputs": [],
   "source": [
    "[d[d==k].shape for k in [0,1]]\n"
   ]
  },
  {
   "cell_type": "code",
   "execution_count": null,
   "metadata": {},
   "outputs": [],
   "source": [
    "from data.JigsawLoader import JigsawDataset\n",
    "from PIL import Image\n",
    "import torchvision.transforms as transforms\n",
    "\n",
    "class JigsawTestDataset(JigsawDataset):\n",
    "    def __init__(self, *args, **xargs):\n",
    "        super().__init__(*args, **xargs)\n",
    "        self._augment_tile = transforms.Compose([\n",
    "#             transforms.RandomCrop(64),\n",
    "            transforms.Resize((75, 75), Image.BILINEAR),\n",
    "            transforms.ToTensor(),\n",
    "            transforms.Normalize([0.485, 0.456, 0.406], [0.229, 0.224, 0.225])\n",
    "        ])\n",
    "        \n",
    "    def __getitem__(self, index):\n",
    "        framename = self.data_path + '/' + self.names[index]\n",
    "        img = Image.open(framename).convert('RGB')\n",
    "        img = self._image_transformer(img)\n",
    "\n",
    "        w = float(img.size[0]) / self.grid_size\n",
    "        n_grids = self.grid_size ** 2\n",
    "        tiles = [None] * n_grids\n",
    "        for n in range(n_grids):\n",
    "            y = int(n / self.grid_size)\n",
    "            x = n % self.grid_size\n",
    "            tile = img.crop([x * w, y * w, (x + 1) * w, (y + 1) * w])\n",
    "            tile = self._augment_tile(tile)\n",
    "            tiles[n] = tile\n",
    "\n",
    "        data = torch.stack(tiles, 0)\n",
    "        return self.returnFunc(data), 0, int(self.labels[index])\n"
   ]
  },
  {
   "cell_type": "code",
   "execution_count": null,
   "metadata": {},
   "outputs": [],
   "source": [
    "dataset = JigsawTestDataset(\"\", join('data/txt_lists', 'dslr_train.txt'), patches=False, classes=31)"
   ]
  },
  {
   "cell_type": "code",
   "execution_count": null,
   "metadata": {},
   "outputs": [],
   "source": []
  },
  {
   "cell_type": "code",
   "execution_count": null,
   "metadata": {},
   "outputs": [],
   "source": [
    "import numpy as np"
   ]
  },
  {
   "cell_type": "code",
   "execution_count": null,
   "metadata": {},
   "outputs": [],
   "source": [
    "perms = np.load(\"permutations_31.npy\")\n",
    "perms"
   ]
  },
  {
   "cell_type": "code",
   "execution_count": null,
   "metadata": {},
   "outputs": [],
   "source": []
  }
 ],
 "metadata": {
  "kernelspec": {
   "display_name": "Python 3",
   "language": "python",
   "name": "python3"
  },
  "language_info": {
   "codemirror_mode": {
    "name": "ipython",
    "version": 3
   },
   "file_extension": ".py",
   "mimetype": "text/x-python",
   "name": "python",
   "nbconvert_exporter": "python",
   "pygments_lexer": "ipython3",
   "version": "3.6.4"
  }
 },
 "nbformat": 4,
 "nbformat_minor": 2
}
