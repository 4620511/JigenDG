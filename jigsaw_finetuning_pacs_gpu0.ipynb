{
 "cells": [
  {
   "cell_type": "code",
   "execution_count": null,
   "metadata": {},
   "outputs": [
    {
     "name": "stdout",
     "output_type": "stream",
     "text": [
      "\n",
      "cartoon-photo-sketch to art_painting - 31 jigsaw classes, split 0\n",
      "Using Caffe AlexNet\n",
      "Dataset size: train 7150, val 793, test 2048\n",
      "Step size: 24\n",
      "Saving to /home/enoon/code/2018/JigsawDA/myJigsaw/utils/../logs/test/cartoon-photo-sketch_to_art_painting/eps30_bs128_lr0.001_class7_jigClass31_jigWeight0.9_bias0.8_TTA_869\n",
      "New epoch - lr: 0.0, 0.001\n",
      "0/55 of epoch 1/30 jigsaw : 3.254164, class : 2.011938 - acc jigsaw : 0.179688, class : 0.117188 [bs:128]\n",
      "30/55 of epoch 1/30 jigsaw : 0.758586, class : 0.719517 - acc jigsaw : 0.820312, class : 0.742188 [bs:128]\n",
      "Accuracies on val: jigsaw : 0.998739, class : 0.844893\n",
      "Single vs multi: 0.624023 0.608398\n",
      "Accuracies on test: jigsaw : 1.000000, class : 0.608398\n",
      "New epoch - lr: 0.0, 0.001\n",
      "0/55 of epoch 2/30 jigsaw : 0.591561, class : 0.623507 - acc jigsaw : 0.859375, class : 0.789062 [bs:128]\n",
      "30/55 of epoch 2/30 jigsaw : 0.593541, class : 0.543646 - acc jigsaw : 0.851562, class : 0.726562 [bs:128]\n",
      "Accuracies on val: jigsaw : 0.997478, class : 0.878941\n",
      "Single vs multi: 0.644043 0.630371\n",
      "Accuracies on test: jigsaw : 0.999023, class : 0.630371\n",
      "New epoch - lr: 0.0, 0.001\n",
      "0/55 of epoch 3/30 jigsaw : 0.790032, class : 0.440152 - acc jigsaw : 0.812500, class : 0.843750 [bs:128]\n",
      "30/55 of epoch 3/30 jigsaw : 0.662702, class : 0.453958 - acc jigsaw : 0.835938, class : 0.820312 [bs:128]\n",
      "Accuracies on val: jigsaw : 0.997478, class : 0.897856\n",
      "Single vs multi: 0.649414 0.634766\n",
      "Accuracies on test: jigsaw : 0.997559, class : 0.634766\n",
      "New epoch - lr: 0.0, 0.001\n",
      "0/55 of epoch 4/30 jigsaw : 0.683472, class : 0.597382 - acc jigsaw : 0.820312, class : 0.796875 [bs:128]\n",
      "30/55 of epoch 4/30 jigsaw : 0.503435, class : 0.421558 - acc jigsaw : 0.859375, class : 0.835938 [bs:128]\n",
      "Accuracies on val: jigsaw : 0.997478, class : 0.892812\n",
      "Single vs multi: 0.655762 0.643066\n",
      "Accuracies on test: jigsaw : 0.997070, class : 0.643066\n",
      "New epoch - lr: 0.0, 0.001\n",
      "0/55 of epoch 5/30 jigsaw : 0.810648, class : 0.409233 - acc jigsaw : 0.820312, class : 0.843750 [bs:128]\n",
      "30/55 of epoch 5/30 jigsaw : 0.900912, class : 0.561530 - acc jigsaw : 0.757812, class : 0.812500 [bs:128]\n",
      "Accuracies on val: jigsaw : 0.997478, class : 0.905422\n",
      "Single vs multi: 0.651855 0.630371\n",
      "Accuracies on test: jigsaw : 0.997070, class : 0.630371\n",
      "New epoch - lr: 0.0, 0.001\n",
      "0/55 of epoch 6/30 jigsaw : 0.638616, class : 0.313467 - acc jigsaw : 0.851562, class : 0.859375 [bs:128]\n",
      "30/55 of epoch 6/30 jigsaw : 0.763634, class : 0.333119 - acc jigsaw : 0.781250, class : 0.843750 [bs:128]\n",
      "Accuracies on val: jigsaw : 0.997478, class : 0.899117\n",
      "Single vs multi: 0.64502 0.625488\n",
      "Accuracies on test: jigsaw : 0.997070, class : 0.625488\n",
      "New epoch - lr: 0.0, 0.001\n",
      "0/55 of epoch 7/30 jigsaw : 0.535760, class : 0.417555 - acc jigsaw : 0.859375, class : 0.828125 [bs:128]\n",
      "30/55 of epoch 7/30 jigsaw : 0.816839, class : 0.526262 - acc jigsaw : 0.796875, class : 0.804688 [bs:128]\n",
      "Accuracies on val: jigsaw : 0.997478, class : 0.912989\n",
      "Single vs multi: 0.655762 0.640625\n",
      "Accuracies on test: jigsaw : 0.997070, class : 0.640625\n",
      "New epoch - lr: 0.0, 0.001\n",
      "0/55 of epoch 8/30 jigsaw : 0.465685, class : 0.362248 - acc jigsaw : 0.867188, class : 0.851562 [bs:128]\n",
      "30/55 of epoch 8/30 jigsaw : 0.565875, class : 0.294496 - acc jigsaw : 0.835938, class : 0.906250 [bs:128]\n",
      "Accuracies on val: jigsaw : 0.997478, class : 0.912989\n",
      "Single vs multi: 0.644043 0.631836\n",
      "Accuracies on test: jigsaw : 0.996094, class : 0.631836\n",
      "New epoch - lr: 0.0, 0.001\n",
      "0/55 of epoch 9/30 jigsaw : 0.736445, class : 0.341926 - acc jigsaw : 0.812500, class : 0.867188 [bs:128]\n",
      "30/55 of epoch 9/30 jigsaw : 0.557116, class : 0.326985 - acc jigsaw : 0.859375, class : 0.867188 [bs:128]\n",
      "Accuracies on val: jigsaw : 0.997478, class : 0.906683\n",
      "Single vs multi: 0.631836 0.620605\n",
      "Accuracies on test: jigsaw : 0.994141, class : 0.620605\n",
      "New epoch - lr: 0.0, 0.001\n",
      "0/55 of epoch 10/30 jigsaw : 0.711059, class : 0.304172 - acc jigsaw : 0.781250, class : 0.859375 [bs:128]\n",
      "30/55 of epoch 10/30 jigsaw : 0.313222, class : 0.267248 - acc jigsaw : 0.929688, class : 0.914062 [bs:128]\n",
      "Accuracies on val: jigsaw : 0.997478, class : 0.910467\n",
      "Single vs multi: 0.652832 0.637207\n",
      "Accuracies on test: jigsaw : 0.992676, class : 0.637207\n",
      "New epoch - lr: 0.0, 0.001\n",
      "0/55 of epoch 11/30 jigsaw : 0.718299, class : 0.411113 - acc jigsaw : 0.789062, class : 0.828125 [bs:128]\n",
      "30/55 of epoch 11/30 jigsaw : 0.525352, class : 0.349555 - acc jigsaw : 0.828125, class : 0.867188 [bs:128]\n",
      "Accuracies on val: jigsaw : 0.997478, class : 0.909206\n",
      "Single vs multi: 0.637207 0.621582\n",
      "Accuracies on test: jigsaw : 0.994629, class : 0.621582\n",
      "New epoch - lr: 0.0, 0.001\n",
      "0/55 of epoch 12/30 jigsaw : 0.566616, class : 0.291815 - acc jigsaw : 0.867188, class : 0.898438 [bs:128]\n",
      "30/55 of epoch 12/30 jigsaw : 0.715077, class : 0.290610 - acc jigsaw : 0.796875, class : 0.898438 [bs:128]\n",
      "Accuracies on val: jigsaw : 0.997478, class : 0.910467\n",
      "Single vs multi: 0.64209 0.632324\n",
      "Accuracies on test: jigsaw : 0.994141, class : 0.632324\n",
      "New epoch - lr: 0.0, 0.001\n",
      "0/55 of epoch 13/30 jigsaw : 0.379055, class : 0.394583 - acc jigsaw : 0.890625, class : 0.875000 [bs:128]\n",
      "30/55 of epoch 13/30 jigsaw : 0.383257, class : 0.280266 - acc jigsaw : 0.898438, class : 0.882812 [bs:128]\n",
      "Accuracies on val: jigsaw : 0.997478, class : 0.920555\n",
      "Single vs multi: 0.645508 0.637207\n",
      "Accuracies on test: jigsaw : 0.989258, class : 0.637207\n",
      "New epoch - lr: 0.0, 0.001\n",
      "0/55 of epoch 14/30 jigsaw : 0.365135, class : 0.262602 - acc jigsaw : 0.898438, class : 0.890625 [bs:128]\n",
      "30/55 of epoch 14/30 jigsaw : 0.498402, class : 0.215087 - acc jigsaw : 0.875000, class : 0.921875 [bs:128]\n",
      "Accuracies on val: jigsaw : 0.997478, class : 0.919294\n",
      "Single vs multi: 0.63623 0.625\n",
      "Accuracies on test: jigsaw : 0.991699, class : 0.625000\n",
      "New epoch - lr: 0.0, 0.001\n",
      "0/55 of epoch 15/30 jigsaw : 0.429791, class : 0.217276 - acc jigsaw : 0.882812, class : 0.929688 [bs:128]\n",
      "30/55 of epoch 15/30 jigsaw : 0.439665, class : 0.220237 - acc jigsaw : 0.859375, class : 0.914062 [bs:128]\n",
      "Accuracies on val: jigsaw : 0.997478, class : 0.916772\n",
      "Single vs multi: 0.644531 0.63623\n",
      "Accuracies on test: jigsaw : 0.987793, class : 0.636230\n",
      "New epoch - lr: 0.0, 0.001\n",
      "0/55 of epoch 16/30 jigsaw : 0.467322, class : 0.417778 - acc jigsaw : 0.882812, class : 0.875000 [bs:128]\n",
      "30/55 of epoch 16/30 jigsaw : 0.458632, class : 0.341602 - acc jigsaw : 0.890625, class : 0.882812 [bs:128]\n",
      "Accuracies on val: jigsaw : 0.996217, class : 0.921816\n",
      "Single vs multi: 0.658203 0.652344\n",
      "Accuracies on test: jigsaw : 0.991699, class : 0.652344\n",
      "New epoch - lr: 0.0, 0.001\n",
      "0/55 of epoch 17/30 jigsaw : 0.459481, class : 0.262495 - acc jigsaw : 0.882812, class : 0.890625 [bs:128]\n",
      "30/55 of epoch 17/30 jigsaw : 0.361900, class : 0.292579 - acc jigsaw : 0.890625, class : 0.898438 [bs:128]\n",
      "Accuracies on val: jigsaw : 0.996217, class : 0.912989\n",
      "Single vs multi: 0.65332 0.648438\n",
      "Accuracies on test: jigsaw : 0.987305, class : 0.648438\n",
      "New epoch - lr: 0.0, 0.001\n",
      "0/55 of epoch 18/30 jigsaw : 0.331315, class : 0.245793 - acc jigsaw : 0.929688, class : 0.921875 [bs:128]\n",
      "30/55 of epoch 18/30 jigsaw : 0.413333, class : 0.240693 - acc jigsaw : 0.875000, class : 0.921875 [bs:128]\n",
      "Accuracies on val: jigsaw : 0.997478, class : 0.918033\n",
      "Single vs multi: 0.649902 0.640137\n",
      "Accuracies on test: jigsaw : 0.992676, class : 0.640137\n",
      "New epoch - lr: 0.0, 0.001\n",
      "0/55 of epoch 19/30 jigsaw : 0.500931, class : 0.262124 - acc jigsaw : 0.875000, class : 0.929688 [bs:128]\n",
      "30/55 of epoch 19/30 jigsaw : 0.292243, class : 0.251794 - acc jigsaw : 0.929688, class : 0.921875 [bs:128]\n",
      "Accuracies on val: jigsaw : 0.996217, class : 0.923077\n",
      "Single vs multi: 0.643555 0.63623\n",
      "Accuracies on test: jigsaw : 0.983398, class : 0.636230\n",
      "New epoch - lr: 0.0, 0.001\n",
      "0/55 of epoch 20/30 jigsaw : 0.476235, class : 0.243512 - acc jigsaw : 0.875000, class : 0.898438 [bs:128]\n",
      "30/55 of epoch 20/30 jigsaw : 0.294856, class : 0.301991 - acc jigsaw : 0.921875, class : 0.890625 [bs:128]\n",
      "Accuracies on val: jigsaw : 0.997478, class : 0.931904\n"
     ]
    }
   ],
   "source": [
    "import torch\n",
    "\n",
    "from data import data_helper\n",
    "from data.data_helper import available_datasets\n",
    "from models import model_factory\n",
    "from optimizer.optimizer_helper import get_optim_and_scheduler\n",
    "from torch.nn import functional as F\n",
    "from torch import nn\n",
    "\n",
    "from utils.Logger import Logger\n",
    "\n",
    "import torchvision\n",
    "import matplotlib.pyplot as plt\n",
    "\n",
    "from train_jigsaw import Trainer\n",
    "from utils import vis\n",
    "\n",
    "class Container():\n",
    "    pass\n",
    "\n",
    "args = Container()\n",
    "args.batch_size = 128\n",
    "args.n_classes = 7\n",
    "args.learning_rate = 0.001\n",
    "args.epochs = 30\n",
    "args.network = \"caffenet\"\n",
    "args.val_size = 0.1\n",
    "args.tf_logger = True\n",
    "args.folder_name = \"test\"\n",
    "args.jigsaw_n_classes = 31\n",
    "args.classify_only_sane = False\n",
    "args.jig_weight = 0.9\n",
    "args.bias_whole_image = 0.8\n",
    "device = torch.device(\"cuda:0\" if torch.cuda.is_available() else \"cpu\")\n",
    "\n",
    "source = sorted([\"photo\", \"cartoon\", \"sketch\", \"art_painting\"])\n",
    "for args.TTA in [True, False]: \n",
    "    for k, x in enumerate(source):\n",
    "        args.source = source[:k]+source[k+1:]\n",
    "        args.target = x\n",
    "        for i in range(3):\n",
    "            print(\"\\n%s to %s - %d jigsaw classes, split %d\" % (\"-\".join(args.source), \n",
    "                                                              args.target, \n",
    "                                                              args.jigsaw_n_classes,\n",
    "                                                              i))\n",
    "            trainer = Trainer(args, device)\n",
    "            trainer.do_training()"
   ]
  },
  {
   "cell_type": "code",
   "execution_count": null,
   "metadata": {
    "scrolled": true
   },
   "outputs": [],
   "source": [
    "source = sorted([\"photo\", \"cartoon\", \"sketch\", \"art_painting\"])\n",
    "args.epochs = 30\n",
    "args.jigsaw_n_classes = 31\n",
    "for args.bias_whole_image in [None, 0.1, 0.3, 0.5]:\n",
    "    for args.classify_only_sane in [True, False]:\n",
    "        print(\"===============================\\n\")\n",
    "        for k, x in enumerate(source):\n",
    "            args.source = source[:k]+source[k+1:]\n",
    "            args.target = x\n",
    "            for i in range(3):\n",
    "                print(\"\\n%s to %s - %d jigsaw classes, split %d\" % (\"-\".join(args.source), \n",
    "                                                                  args.target, \n",
    "                                                                  args.jigsaw_n_classes,\n",
    "                                                                  i))\n",
    "                trainer = Trainer(args, device)\n",
    "                trainer.do_training()"
   ]
  },
  {
   "cell_type": "code",
   "execution_count": null,
   "metadata": {
    "scrolled": true
   },
   "outputs": [],
   "source": [
    "source = sorted([\"photo\", \"cartoon\", \"sketch\", \"art_painting\"])\n",
    "for args.jigsaw_n_classes in [1,3,5,10,20]:\n",
    "    args.epochs = int((80/95)*args.jigsaw_n_classes+15)\n",
    "    for k, x in enumerate(source):\n",
    "        args.source = source[:k]+source[k+1:]\n",
    "        args.target = x\n",
    "        for i in range(3):\n",
    "            print(\"\\n%s to %s - %d jigsaw classes, split %d\" % (\"-\".join(args.source), \n",
    "                                                              args.target, \n",
    "                                                              args.jigsaw_n_classes,\n",
    "                                                              i))\n",
    "            trainer = Trainer(args, device)\n",
    "            trainer.do_training()"
   ]
  },
  {
   "cell_type": "code",
   "execution_count": null,
   "metadata": {},
   "outputs": [],
   "source": [
    "trainer = Trainer(args, device)\n",
    "logger, model = trainer.do_training()"
   ]
  },
  {
   "cell_type": "code",
   "execution_count": null,
   "metadata": {},
   "outputs": [],
   "source": [
    "trainer = Trainer(args, device)\n",
    "logger, model = trainer.do_training()"
   ]
  },
  {
   "cell_type": "code",
   "execution_count": null,
   "metadata": {},
   "outputs": [],
   "source": [
    "%matplotlib notebook\n",
    "print(100*(logger.val_acc[\"class\"][-1] + logger.val_acc[\"class\"][-2])/2.)\n",
    "vis.view_training(logger, \"%s->%s eps:%d jigweight:%.1f\" % (\"-\".join(args.source),\n",
    "                                                            args.target,args.epochs, args.jig_weight))"
   ]
  },
  {
   "cell_type": "code",
   "execution_count": null,
   "metadata": {},
   "outputs": [],
   "source": [
    "fig, ax1 = plt.subplots()\n",
    "for k,v in logger.losses.items():\n",
    "    ax1.plot(v, label=k)\n",
    "    l = len(v)\n",
    "updates = l / len(logger.val_acc)\n",
    "print(updates)\n",
    "plt.legend()\n",
    "ax2 = ax1.twinx()\n",
    "ax2.plot(range(0,l,int(updates)), logger.val_acc, label=\"Test acc\", c='g')\n",
    "plt.legend()\n",
    "plt.title(\"%s->%s eps:%d jigweight:%.2f\" % (str(source),target,epochs, jig_weight))\n",
    "plt.show()"
   ]
  },
  {
   "cell_type": "code",
   "execution_count": null,
   "metadata": {},
   "outputs": [],
   "source": [
    "fig, ax1 = plt.subplots()\n",
    "for k,v in logger.losses.items():\n",
    "    ax1.plot(v, label=k)\n",
    "    l = len(v)\n",
    "updates = l / len(logger.val_acc)\n",
    "print(updates)\n",
    "plt.legend()\n",
    "ax2 = ax1.twinx()\n",
    "ax2.plot(range(0,l,int(updates)), logger.val_acc, label=\"Test acc\", c='g')\n",
    "plt.legend()\n",
    "plt.show()"
   ]
  },
  {
   "cell_type": "code",
   "execution_count": null,
   "metadata": {},
   "outputs": [],
   "source": [
    "def to_plt(inp):\n",
    "    inp = inp.numpy().transpose((1, 2, 0))\n",
    "    inp = np.clip(inp, 0, 1)\n",
    "    return inp\n",
    "\n",
    "conv1 = models.alexnet(pretrained=True).features[0] #model_ft.features[0]\n",
    "tmp = conv1.weight.cpu().data\n",
    "tmp = torchvision.utils.make_grid(tmp,normalize=True)\n",
    "plt.imshow(to_plt(tmp))\n",
    "plt.show()"
   ]
  },
  {
   "cell_type": "code",
   "execution_count": null,
   "metadata": {},
   "outputs": [],
   "source": [
    "import numpy as np\n",
    "\n",
    "conv1 = model_ft.features[0]\n",
    "tmp = conv1.weight.cpu().data\n",
    "tmp = torchvision.utils.make_grid(tmp,normalize=True)\n",
    "plt.imshow(to_plt(tmp))\n",
    "plt.show()"
   ]
  },
  {
   "cell_type": "code",
   "execution_count": null,
   "metadata": {},
   "outputs": [],
   "source": [
    "plt.plot(memory[\"train\"], label=\"train\")\n",
    "plt.plot(memory[\"val\"], label=\"val\")\n",
    "plt.show()"
   ]
  },
  {
   "cell_type": "code",
   "execution_count": null,
   "metadata": {
    "scrolled": true
   },
   "outputs": [],
   "source": [
    "\n",
    "\n",
    "\n",
    "# iter_c = iter(train_datasets)\n",
    "\n",
    "# for x in range(5):\n",
    "#     tmp = next(iter_c)\n",
    "#     image = to_plt(tmp[0])\n",
    "#     plt.imshow(image)\n",
    "#     plt.show()"
   ]
  },
  {
   "cell_type": "code",
   "execution_count": null,
   "metadata": {},
   "outputs": [],
   "source": []
  },
  {
   "cell_type": "code",
   "execution_count": null,
   "metadata": {
    "scrolled": false
   },
   "outputs": [],
   "source": [
    "from os.path import join, dirname\n",
    "# from data.JigsawLoader import JigsawTestDataset\n",
    "import torch\n",
    "import matplotlib.pyplot as plt\n",
    "import numpy as np\n",
    "\n",
    "\n",
    "def to_plt(inp):\n",
    "    inp = inp.numpy().transpose((1, 2, 0))\n",
    "#     mean = np.array([0.485, 0.456, 0.406])\n",
    "#     std = np.array([0.229, 0.224, 0.225])\n",
    "#     inp = std * inp + mean\n",
    "#     inp = np.clip(inp, 0, 1)\n",
    "    return inp\n",
    "\n",
    "# dataset = JigsawTestDataset(\"\", join('data/txt_lists', 'dslr_train.txt'), patches=False, classes=31)\n",
    "# test = torch.utils.data.DataLoader(dataset, batch_size=64, shuffle=True, num_workers=4, pin_memory=True, drop_last=False)\n",
    "iter_c = iter(data_helper.get_dataloader(\"photo\", 31, \"train\"))\n",
    "(tmp, v, c), d = next(iter_c)\n",
    "for x in range(10):\n",
    "    image = tmp[x]\n",
    "    image = torchvision.utils.make_grid(tmp[x],1,normalize=True)\n",
    "    plt.imshow(to_plt(image))\n",
    "    plt.show()\n",
    "    print(v[x],c[x])\n",
    "    \n",
    "print(v.max(), v.min())"
   ]
  },
  {
   "cell_type": "code",
   "execution_count": null,
   "metadata": {},
   "outputs": [],
   "source": [
    "v"
   ]
  },
  {
   "cell_type": "code",
   "execution_count": null,
   "metadata": {},
   "outputs": [],
   "source": [
    "[d[d==k].shape for k in [0,1]]\n"
   ]
  },
  {
   "cell_type": "code",
   "execution_count": null,
   "metadata": {},
   "outputs": [],
   "source": [
    "from data.JigsawLoader import JigsawDataset\n",
    "from PIL import Image\n",
    "import torchvision.transforms as transforms\n",
    "\n",
    "class JigsawTestDataset(JigsawDataset):\n",
    "    def __init__(self, *args, **xargs):\n",
    "        super().__init__(*args, **xargs)\n",
    "        self._augment_tile = transforms.Compose([\n",
    "#             transforms.RandomCrop(64),\n",
    "            transforms.Resize((75, 75), Image.BILINEAR),\n",
    "            transforms.ToTensor(),\n",
    "            transforms.Normalize([0.485, 0.456, 0.406], [0.229, 0.224, 0.225])\n",
    "        ])\n",
    "        \n",
    "    def __getitem__(self, index):\n",
    "        framename = self.data_path + '/' + self.names[index]\n",
    "        img = Image.open(framename).convert('RGB')\n",
    "        img = self._image_transformer(img)\n",
    "\n",
    "        w = float(img.size[0]) / self.grid_size\n",
    "        n_grids = self.grid_size ** 2\n",
    "        tiles = [None] * n_grids\n",
    "        for n in range(n_grids):\n",
    "            y = int(n / self.grid_size)\n",
    "            x = n % self.grid_size\n",
    "            tile = img.crop([x * w, y * w, (x + 1) * w, (y + 1) * w])\n",
    "            tile = self._augment_tile(tile)\n",
    "            tiles[n] = tile\n",
    "\n",
    "        data = torch.stack(tiles, 0)\n",
    "        return self.returnFunc(data), 0, int(self.labels[index])\n"
   ]
  },
  {
   "cell_type": "code",
   "execution_count": null,
   "metadata": {},
   "outputs": [],
   "source": [
    "dataset = JigsawTestDataset(\"\", join('data/txt_lists', 'dslr_train.txt'), patches=False, classes=31)"
   ]
  },
  {
   "cell_type": "code",
   "execution_count": null,
   "metadata": {},
   "outputs": [],
   "source": []
  },
  {
   "cell_type": "code",
   "execution_count": null,
   "metadata": {},
   "outputs": [],
   "source": [
    "import numpy as np"
   ]
  },
  {
   "cell_type": "code",
   "execution_count": null,
   "metadata": {},
   "outputs": [],
   "source": [
    "perms = np.load(\"permutations_31.npy\")\n",
    "perms"
   ]
  },
  {
   "cell_type": "code",
   "execution_count": null,
   "metadata": {},
   "outputs": [],
   "source": []
  }
 ],
 "metadata": {
  "kernelspec": {
   "display_name": "Python 3",
   "language": "python",
   "name": "python3"
  },
  "language_info": {
   "codemirror_mode": {
    "name": "ipython",
    "version": 3
   },
   "file_extension": ".py",
   "mimetype": "text/x-python",
   "name": "python",
   "nbconvert_exporter": "python",
   "pygments_lexer": "ipython3",
   "version": "3.6.4"
  }
 },
 "nbformat": 4,
 "nbformat_minor": 2
}
