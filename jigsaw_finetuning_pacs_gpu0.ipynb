{
 "cells": [
  {
   "cell_type": "code",
   "execution_count": null,
   "metadata": {
    "scrolled": false
   },
   "outputs": [
    {
     "name": "stdout",
     "output_type": "stream",
     "text": [
      "The autoreload extension is already loaded. To reload it, use:\n",
      "  %reload_ext autoreload\n",
      "\n",
      "cartoon-photo-sketch to art_painting - 31 jigsaw classes, split 0\n",
      "Using Caffe AlexNet\n",
      "Dataset size: train 7150, val 793, test 2048\n",
      "Step size: 24\n",
      "Saving to /home/enoon/code/2018/JigsawDA/myJigsaw/utils/../logs/tmp/cartoon-photo-sketch_to_art_painting/eps30_bs128_lr0.001_class7_jigClass31_jigWeight0.4_TAll_bias0.8_classifyOnlySane_24\n",
      "New epoch - lr: 0.001\n",
      "0/55 of epoch 1/30 jigsaw : 3.496, class : 1.999 - acc jigsaw : 1.56, class : 13.28 [bs:128]\n",
      "30/55 of epoch 1/30 jigsaw : 0.726, class : 0.708 - acc jigsaw : 82.81, class : 75.00 [bs:128]\n",
      "Accuracies on val: jigsaw : 100.00, class : 86.89\n",
      "Accuracies on test: jigsaw : 100.00, class : 63.53\n",
      "New epoch - lr: 0.001\n",
      "0/55 of epoch 2/30 jigsaw : 0.870, class : 0.389 - acc jigsaw : 78.12, class : 77.34 [bs:128]\n",
      "30/55 of epoch 2/30 jigsaw : 0.874, class : 0.283 - acc jigsaw : 78.91, class : 82.03 [bs:128]\n",
      "Accuracies on val: jigsaw : 100.00, class : 87.64\n",
      "Accuracies on test: jigsaw : 99.76, class : 62.89\n",
      "New epoch - lr: 0.001\n",
      "0/55 of epoch 3/30 jigsaw : 0.995, class : 0.192 - acc jigsaw : 74.22, class : 89.84 [bs:128]\n",
      "30/55 of epoch 3/30 jigsaw : 0.912, class : 0.320 - acc jigsaw : 78.12, class : 78.91 [bs:128]\n",
      "Accuracies on val: jigsaw : 100.00, class : 89.03\n",
      "Accuracies on test: jigsaw : 99.90, class : 65.77\n",
      "New epoch - lr: 0.001\n",
      "0/55 of epoch 4/30 jigsaw : 0.765, class : 0.283 - acc jigsaw : 79.69, class : 85.16 [bs:128]\n",
      "30/55 of epoch 4/30 jigsaw : 0.718, class : 0.247 - acc jigsaw : 80.47, class : 81.25 [bs:128]\n",
      "Accuracies on val: jigsaw : 99.87, class : 90.42\n",
      "Accuracies on test: jigsaw : 99.80, class : 65.33\n",
      "New epoch - lr: 0.001\n",
      "0/55 of epoch 5/30 jigsaw : 0.756, class : 0.107 - acc jigsaw : 79.69, class : 89.84 [bs:128]\n",
      "30/55 of epoch 5/30 jigsaw : 0.599, class : 0.231 - acc jigsaw : 85.16, class : 89.06 [bs:128]\n",
      "Accuracies on val: jigsaw : 99.87, class : 90.67\n",
      "Accuracies on test: jigsaw : 99.80, class : 66.85\n",
      "New epoch - lr: 0.001\n",
      "0/55 of epoch 6/30 jigsaw : 0.649, class : 0.351 - acc jigsaw : 82.03, class : 81.25 [bs:128]\n",
      "30/55 of epoch 6/30 jigsaw : 0.663, class : 0.185 - acc jigsaw : 83.59, class : 84.38 [bs:128]\n",
      "Accuracies on val: jigsaw : 99.75, class : 90.29\n",
      "Accuracies on test: jigsaw : 99.41, class : 64.11\n",
      "New epoch - lr: 0.001\n",
      "0/55 of epoch 7/30 jigsaw : 0.586, class : 0.201 - acc jigsaw : 83.59, class : 85.16 [bs:128]\n",
      "30/55 of epoch 7/30 jigsaw : 0.733, class : 0.113 - acc jigsaw : 81.25, class : 86.72 [bs:128]\n",
      "Accuracies on val: jigsaw : 99.87, class : 91.05\n",
      "Accuracies on test: jigsaw : 99.80, class : 66.65\n",
      "New epoch - lr: 0.001\n",
      "0/55 of epoch 8/30 jigsaw : 0.699, class : 0.109 - acc jigsaw : 82.81, class : 93.75 [bs:128]\n",
      "30/55 of epoch 8/30 jigsaw : 0.708, class : 0.067 - acc jigsaw : 82.81, class : 85.94 [bs:128]\n",
      "Accuracies on val: jigsaw : 99.87, class : 91.68\n",
      "Accuracies on test: jigsaw : 99.61, class : 68.31\n",
      "New epoch - lr: 0.001\n",
      "0/55 of epoch 9/30 jigsaw : 0.600, class : 0.155 - acc jigsaw : 84.38, class : 85.94 [bs:128]\n",
      "30/55 of epoch 9/30 jigsaw : 0.461, class : 0.224 - acc jigsaw : 86.72, class : 85.94 [bs:128]\n",
      "Accuracies on val: jigsaw : 99.87, class : 90.92\n",
      "Accuracies on test: jigsaw : 99.71, class : 70.17\n",
      "New epoch - lr: 0.001\n",
      "0/55 of epoch 10/30 jigsaw : 0.766, class : 0.062 - acc jigsaw : 78.12, class : 87.50 [bs:128]\n",
      "30/55 of epoch 10/30 jigsaw : 0.591, class : 0.093 - acc jigsaw : 86.72, class : 89.06 [bs:128]\n",
      "Accuracies on val: jigsaw : 99.87, class : 92.31\n",
      "Accuracies on test: jigsaw : 99.80, class : 67.92\n",
      "New epoch - lr: 0.001\n",
      "0/55 of epoch 11/30 jigsaw : 0.595, class : 0.140 - acc jigsaw : 83.59, class : 84.38 [bs:128]\n",
      "30/55 of epoch 11/30 jigsaw : 0.447, class : 0.152 - acc jigsaw : 88.28, class : 85.16 [bs:128]\n",
      "Accuracies on val: jigsaw : 99.87, class : 91.80\n",
      "Accuracies on test: jigsaw : 99.80, class : 63.87\n",
      "New epoch - lr: 0.001\n",
      "0/55 of epoch 12/30 jigsaw : 0.722, class : 0.045 - acc jigsaw : 80.47, class : 89.06 [bs:128]\n",
      "30/55 of epoch 12/30 jigsaw : 0.456, class : 0.020 - acc jigsaw : 88.28, class : 92.97 [bs:128]\n",
      "Accuracies on val: jigsaw : 100.00, class : 91.55\n",
      "Accuracies on test: jigsaw : 99.90, class : 66.06\n",
      "New epoch - lr: 0.001\n",
      "0/55 of epoch 13/30 jigsaw : 0.613, class : 0.084 - acc jigsaw : 82.81, class : 88.28 [bs:128]\n",
      "30/55 of epoch 13/30 jigsaw : 0.422, class : 0.034 - acc jigsaw : 85.94, class : 91.41 [bs:128]\n",
      "Accuracies on val: jigsaw : 100.00, class : 91.68\n",
      "Accuracies on test: jigsaw : 99.95, class : 64.36\n",
      "New epoch - lr: 0.001\n",
      "0/55 of epoch 14/30 jigsaw : 0.378, class : 0.028 - acc jigsaw : 89.84, class : 92.97 [bs:128]\n",
      "30/55 of epoch 14/30 jigsaw : 0.410, class : 0.023 - acc jigsaw : 89.06, class : 91.41 [bs:128]\n",
      "Accuracies on val: jigsaw : 99.87, class : 91.93\n",
      "Accuracies on test: jigsaw : 99.46, class : 66.80\n",
      "New epoch - lr: 0.001\n",
      "0/55 of epoch 15/30 jigsaw : 0.588, class : 0.023 - acc jigsaw : 82.03, class : 89.06 [bs:128]\n",
      "30/55 of epoch 15/30 jigsaw : 0.511, class : 0.112 - acc jigsaw : 85.16, class : 87.50 [bs:128]\n",
      "Accuracies on val: jigsaw : 100.00, class : 92.31\n",
      "Accuracies on test: jigsaw : 99.61, class : 65.87\n",
      "New epoch - lr: 0.001\n",
      "0/55 of epoch 16/30 jigsaw : 0.452, class : 0.024 - acc jigsaw : 86.72, class : 92.19 [bs:128]\n",
      "30/55 of epoch 16/30 jigsaw : 0.483, class : 0.016 - acc jigsaw : 85.94, class : 89.84 [bs:128]\n",
      "Accuracies on val: jigsaw : 99.87, class : 92.18\n",
      "Accuracies on test: jigsaw : 99.76, class : 65.19\n",
      "New epoch - lr: 0.001\n",
      "0/55 of epoch 17/30 jigsaw : 0.456, class : 0.043 - acc jigsaw : 88.28, class : 89.84 [bs:128]\n",
      "30/55 of epoch 17/30 jigsaw : 0.426, class : 0.090 - acc jigsaw : 87.50, class : 92.19 [bs:128]\n",
      "Accuracies on val: jigsaw : 99.87, class : 92.43\n",
      "Accuracies on test: jigsaw : 99.61, class : 66.50\n",
      "New epoch - lr: 0.001\n",
      "0/55 of epoch 18/30 jigsaw : 0.556, class : 0.077 - acc jigsaw : 85.94, class : 86.72 [bs:128]\n",
      "30/55 of epoch 18/30 jigsaw : 0.534, class : 0.066 - acc jigsaw : 85.94, class : 88.28 [bs:128]\n",
      "Accuracies on val: jigsaw : 99.75, class : 92.94\n",
      "Accuracies on test: jigsaw : 99.56, class : 66.50\n",
      "New epoch - lr: 0.001\n",
      "0/55 of epoch 19/30 jigsaw : 0.618, class : 0.051 - acc jigsaw : 81.25, class : 86.72 [bs:128]\n",
      "30/55 of epoch 19/30 jigsaw : 0.418, class : 0.049 - acc jigsaw : 89.84, class : 88.28 [bs:128]\n",
      "Accuracies on val: jigsaw : 100.00, class : 92.43\n",
      "Accuracies on test: jigsaw : 99.80, class : 67.43\n",
      "New epoch - lr: 0.001\n",
      "0/55 of epoch 20/30 jigsaw : 0.385, class : 0.032 - acc jigsaw : 86.72, class : 89.84 [bs:128]\n",
      "30/55 of epoch 20/30 jigsaw : 0.409, class : 0.033 - acc jigsaw : 86.72, class : 87.50 [bs:128]\n",
      "Accuracies on val: jigsaw : 100.00, class : 91.93\n",
      "Accuracies on test: jigsaw : 99.80, class : 67.63\n",
      "New epoch - lr: 0.001\n",
      "0/55 of epoch 21/30 jigsaw : 0.544, class : 0.054 - acc jigsaw : 86.72, class : 89.84 [bs:128]\n",
      "30/55 of epoch 21/30 jigsaw : 0.338, class : 0.064 - acc jigsaw : 91.41, class : 87.50 [bs:128]\n",
      "Accuracies on val: jigsaw : 99.75, class : 92.31\n",
      "Accuracies on test: jigsaw : 99.46, class : 65.97\n",
      "New epoch - lr: 0.001\n",
      "0/55 of epoch 22/30 jigsaw : 0.370, class : 0.082 - acc jigsaw : 89.84, class : 84.38 [bs:128]\n",
      "30/55 of epoch 22/30 jigsaw : 0.475, class : 0.027 - acc jigsaw : 86.72, class : 90.62 [bs:128]\n",
      "Accuracies on val: jigsaw : 99.50, class : 92.18\n",
      "Accuracies on test: jigsaw : 99.51, class : 65.43\n",
      "New epoch - lr: 0.001\n",
      "0/55 of epoch 23/30 jigsaw : 0.259, class : 0.051 - acc jigsaw : 92.97, class : 89.84 [bs:128]\n",
      "30/55 of epoch 23/30 jigsaw : 0.400, class : 0.021 - acc jigsaw : 90.62, class : 85.94 [bs:128]\n",
      "Accuracies on val: jigsaw : 100.00, class : 93.06\n",
      "Accuracies on test: jigsaw : 99.76, class : 64.45\n",
      "New epoch - lr: 0.001\n",
      "0/55 of epoch 24/30 jigsaw : 0.277, class : 0.085 - acc jigsaw : 92.97, class : 90.62 [bs:128]\n",
      "30/55 of epoch 24/30 jigsaw : 0.347, class : 0.004 - acc jigsaw : 89.84, class : 89.06 [bs:128]\n",
      "Accuracies on val: jigsaw : 99.87, class : 92.69\n",
      "Accuracies on test: jigsaw : 99.46, class : 67.14\n",
      "New epoch - lr: 0.0001\n",
      "0/55 of epoch 25/30 jigsaw : 0.429, class : 0.039 - acc jigsaw : 89.84, class : 84.38 [bs:128]\n",
      "30/55 of epoch 25/30 jigsaw : 0.397, class : 0.023 - acc jigsaw : 89.06, class : 90.62 [bs:128]\n",
      "Accuracies on val: jigsaw : 100.00, class : 93.19\n",
      "Accuracies on test: jigsaw : 99.66, class : 67.58\n",
      "New epoch - lr: 0.0001\n"
     ]
    },
    {
     "name": "stdout",
     "output_type": "stream",
     "text": [
      "0/55 of epoch 26/30 jigsaw : 0.373, class : 0.043 - acc jigsaw : 92.97, class : 90.62 [bs:128]\n",
      "30/55 of epoch 26/30 jigsaw : 0.320, class : 0.007 - acc jigsaw : 90.62, class : 92.97 [bs:128]\n",
      "Accuracies on val: jigsaw : 100.00, class : 93.06\n",
      "Accuracies on test: jigsaw : 99.61, class : 68.31\n",
      "New epoch - lr: 0.0001\n",
      "0/55 of epoch 27/30 jigsaw : 0.378, class : 0.015 - acc jigsaw : 89.06, class : 87.50 [bs:128]\n",
      "30/55 of epoch 27/30 jigsaw : 0.446, class : 0.019 - acc jigsaw : 86.72, class : 85.16 [bs:128]\n",
      "Accuracies on val: jigsaw : 100.00, class : 92.69\n",
      "Accuracies on test: jigsaw : 99.66, class : 68.41\n",
      "New epoch - lr: 0.0001\n",
      "0/55 of epoch 28/30 jigsaw : 0.364, class : 0.042 - acc jigsaw : 89.84, class : 88.28 [bs:128]\n"
     ]
    }
   ],
   "source": [
    "%load_ext autoreload\n",
    "%autoreload 2\n",
    "\n",
    "import torch\n",
    "\n",
    "from data import data_helper\n",
    "from data.data_helper import available_datasets\n",
    "from models import model_factory\n",
    "from optimizer.optimizer_helper import get_optim_and_scheduler\n",
    "from torch.nn import functional as F\n",
    "from torch import nn\n",
    "\n",
    "from utils.Logger import Logger\n",
    "\n",
    "import torchvision\n",
    "import matplotlib.pyplot as plt\n",
    "\n",
    "from train_jigsaw import Trainer\n",
    "from utils import vis\n",
    "\n",
    "class Container():\n",
    "    pass\n",
    "\n",
    "args = Container()\n",
    "args.batch_size = 128\n",
    "args.n_classes = 7\n",
    "args.learning_rate = 0.001\n",
    "args.epochs = 30\n",
    "args.network = \"caffenet\"\n",
    "args.val_size = 0.1\n",
    "args.tf_logger = True\n",
    "args.folder_name = \"tmp\" # odd_one_out\n",
    "args.jigsaw_n_classes = 31\n",
    "\n",
    "args.train_all = True\n",
    "# args.jig_weight = 0.9\n",
    "# args.bias_whole_image = 0.8\n",
    "args.TTA = False\n",
    "args.suffix = \"\"\n",
    "args.image_size = 225\n",
    "device = torch.device(\"cuda:0\" if torch.cuda.is_available() else \"cpu\")\n",
    "\n",
    "source = sorted([\"photo\", \"cartoon\", \"sketch\", \"art_painting\"])\n",
    "args.classify_only_sane = True\n",
    "\n",
    "\n",
    "for args.jig_weight in [0.4]: \n",
    "    for args.bias_whole_image in [0.8]:\n",
    "        for k, x in enumerate(source):\n",
    "            args.source = source[:k]+source[k+1:]\n",
    "            args.target = x\n",
    "            for i in range(3):\n",
    "                print(\"\\n%s to %s - %d jigsaw classes, split %d\" % (\"-\".join(args.source), \n",
    "                                                                  args.target, \n",
    "                                                                  args.jigsaw_n_classes,\n",
    "                                                                  i))\n",
    "                trainer = Trainer(args, device)\n",
    "                trainer.do_training()"
   ]
  },
  {
   "cell_type": "code",
   "execution_count": null,
   "metadata": {
    "scrolled": true
   },
   "outputs": [],
   "source": [
    "source = sorted([\"photo\", \"cartoon\", \"sketch\", \"art_painting\"])\n",
    "args.epochs = 30\n",
    "args.jigsaw_n_classes = 31\n",
    "for args.bias_whole_image in [None, 0.1, 0.3, 0.5]:\n",
    "    for args.classify_only_sane in [True, False]:\n",
    "        print(\"===============================\\n\")\n",
    "        for k, x in enumerate(source):\n",
    "            args.source = source[:k]+source[k+1:]\n",
    "            args.target = x\n",
    "            for i in range(3):\n",
    "                print(\"\\n%s to %s - %d jigsaw classes, split %d\" % (\"-\".join(args.source), \n",
    "                                                                  args.target, \n",
    "                                                                  args.jigsaw_n_classes,\n",
    "                                                                  i))\n",
    "                trainer = Trainer(args, device)\n",
    "                trainer.do_training()"
   ]
  },
  {
   "cell_type": "code",
   "execution_count": null,
   "metadata": {
    "scrolled": true
   },
   "outputs": [],
   "source": [
    "source = sorted([\"photo\", \"cartoon\", \"sketch\", \"art_painting\"])\n",
    "for args.jigsaw_n_classes in [1,3,5,10,20]:\n",
    "    args.epochs = int((80/95)*args.jigsaw_n_classes+15)\n",
    "    for k, x in enumerate(source):\n",
    "        args.source = source[:k]+source[k+1:]\n",
    "        args.target = x\n",
    "        for i in range(3):\n",
    "            print(\"\\n%s to %s - %d jigsaw classes, split %d\" % (\"-\".join(args.source), \n",
    "                                                              args.target, \n",
    "                                                              args.jigsaw_n_classes,\n",
    "                                                              i))\n",
    "            trainer = Trainer(args, device)\n",
    "            trainer.do_training()"
   ]
  },
  {
   "cell_type": "code",
   "execution_count": null,
   "metadata": {},
   "outputs": [],
   "source": [
    "trainer = Trainer(args, device)\n",
    "logger, model = trainer.do_training()"
   ]
  },
  {
   "cell_type": "code",
   "execution_count": null,
   "metadata": {},
   "outputs": [],
   "source": [
    "trainer = Trainer(args, device)\n",
    "logger, model = trainer.do_training()"
   ]
  },
  {
   "cell_type": "code",
   "execution_count": null,
   "metadata": {},
   "outputs": [],
   "source": [
    "%matplotlib notebook\n",
    "print(100*(logger.val_acc[\"class\"][-1] + logger.val_acc[\"class\"][-2])/2.)\n",
    "vis.view_training(logger, \"%s->%s eps:%d jigweight:%.1f\" % (\"-\".join(args.source),\n",
    "                                                            args.target,args.epochs, args.jig_weight))"
   ]
  },
  {
   "cell_type": "code",
   "execution_count": null,
   "metadata": {},
   "outputs": [],
   "source": [
    "fig, ax1 = plt.subplots()\n",
    "for k,v in logger.losses.items():\n",
    "    ax1.plot(v, label=k)\n",
    "    l = len(v)\n",
    "updates = l / len(logger.val_acc)\n",
    "print(updates)\n",
    "plt.legend()\n",
    "ax2 = ax1.twinx()\n",
    "ax2.plot(range(0,l,int(updates)), logger.val_acc, label=\"Test acc\", c='g')\n",
    "plt.legend()\n",
    "plt.title(\"%s->%s eps:%d jigweight:%.2f\" % (str(source),target,epochs, jig_weight))\n",
    "plt.show()"
   ]
  },
  {
   "cell_type": "code",
   "execution_count": null,
   "metadata": {},
   "outputs": [],
   "source": [
    "fig, ax1 = plt.subplots()\n",
    "for k,v in logger.losses.items():\n",
    "    ax1.plot(v, label=k)\n",
    "    l = len(v)\n",
    "updates = l / len(logger.val_acc)\n",
    "print(updates)\n",
    "plt.legend()\n",
    "ax2 = ax1.twinx()\n",
    "ax2.plot(range(0,l,int(updates)), logger.val_acc, label=\"Test acc\", c='g')\n",
    "plt.legend()\n",
    "plt.show()"
   ]
  },
  {
   "cell_type": "code",
   "execution_count": null,
   "metadata": {},
   "outputs": [],
   "source": [
    "def to_plt(inp):\n",
    "    inp = inp.numpy().transpose((1, 2, 0))\n",
    "    inp = np.clip(inp, 0, 1)\n",
    "    return inp\n",
    "\n",
    "conv1 = models.alexnet(pretrained=True).features[0] #model_ft.features[0]\n",
    "tmp = conv1.weight.cpu().data\n",
    "tmp = torchvision.utils.make_grid(tmp,normalize=True)\n",
    "plt.imshow(to_plt(tmp))\n",
    "plt.show()"
   ]
  },
  {
   "cell_type": "code",
   "execution_count": null,
   "metadata": {},
   "outputs": [],
   "source": [
    "import numpy as np\n",
    "\n",
    "conv1 = model_ft.features[0]\n",
    "tmp = conv1.weight.cpu().data\n",
    "tmp = torchvision.utils.make_grid(tmp,normalize=True)\n",
    "plt.imshow(to_plt(tmp))\n",
    "plt.show()"
   ]
  },
  {
   "cell_type": "code",
   "execution_count": null,
   "metadata": {},
   "outputs": [],
   "source": [
    "plt.plot(memory[\"train\"], label=\"train\")\n",
    "plt.plot(memory[\"val\"], label=\"val\")\n",
    "plt.show()"
   ]
  },
  {
   "cell_type": "code",
   "execution_count": null,
   "metadata": {
    "scrolled": true
   },
   "outputs": [],
   "source": [
    "\n",
    "\n",
    "\n",
    "# iter_c = iter(train_datasets)\n",
    "\n",
    "# for x in range(5):\n",
    "#     tmp = next(iter_c)\n",
    "#     image = to_plt(tmp[0])\n",
    "#     plt.imshow(image)\n",
    "#     plt.show()"
   ]
  },
  {
   "cell_type": "code",
   "execution_count": null,
   "metadata": {},
   "outputs": [],
   "source": []
  },
  {
   "cell_type": "code",
   "execution_count": null,
   "metadata": {
    "scrolled": false
   },
   "outputs": [],
   "source": [
    "from data.data_helper import get_val_dataloader, get_train_dataloader\n",
    "from os.path import join, dirname\n",
    "# from data.JigsawLoader import JigsawTestDataset\n",
    "import torch\n",
    "import matplotlib.pyplot as plt\n",
    "import numpy as np\n",
    "import torchvision\n",
    "\n",
    "loader = get_val_dataloader(\"photo\",31,batch_size=10,multi=False)\n",
    "# loader, _ = get_train_dataloader([\"photo\"],31)"
   ]
  },
  {
   "cell_type": "code",
   "execution_count": null,
   "metadata": {
    "scrolled": true
   },
   "outputs": [],
   "source": [
    "def to_plt(inp):\n",
    "    inp = inp.numpy().transpose((1, 2, 0))\n",
    "    return inp\n",
    "\n",
    "# dataset = JigsawTestDataset(\"\", join('data/txt_lists', 'dslr_train.txt'), patches=False, classes=31)\n",
    "# test = torch.utils.data.DataLoader(dataset, batch_size=64, shuffle=True, num_workers=4, pin_memory=True, drop_last=False)\n",
    "iter_c = iter(loader)\n",
    "(tmp, v, c), d = next(iter_c)\n",
    "\n",
    "for x in range(tmp.shape[0]):\n",
    "#     image = tmp[0, x]\n",
    "    image = torchvision.utils.make_grid(tmp[x],1,normalize=True)\n",
    "    plt.imshow(to_plt(image))\n",
    "    plt.show()\n",
    "\n",
    "    \n",
    "# print(v.max(), v.min())"
   ]
  },
  {
   "cell_type": "code",
   "execution_count": null,
   "metadata": {},
   "outputs": [],
   "source": [
    "tmp.max(), tmp.min()"
   ]
  },
  {
   "cell_type": "code",
   "execution_count": null,
   "metadata": {},
   "outputs": [],
   "source": [
    "from data.JigsawLoader import JigsawDataset\n",
    "from PIL import Image\n",
    "import torchvision.transforms as transforms\n",
    "\n",
    "class JigsawTestDataset(JigsawDataset):\n",
    "    def __init__(self, *args, **xargs):\n",
    "        super().__init__(*args, **xargs)\n",
    "        self._augment_tile = transforms.Compose([\n",
    "#             transforms.RandomCrop(64),\n",
    "            transforms.Resize((75, 75), Image.BILINEAR),\n",
    "            transforms.ToTensor(),\n",
    "            transforms.Normalize([0.485, 0.456, 0.406], [0.229, 0.224, 0.225])\n",
    "        ])\n",
    "        \n",
    "    def __getitem__(self, index):\n",
    "        framename = self.data_path + '/' + self.names[index]\n",
    "        img = Image.open(framename).convert('RGB')\n",
    "        img = self._image_transformer(img)\n",
    "\n",
    "        w = float(img.size[0]) / self.grid_size\n",
    "        n_grids = self.grid_size ** 2\n",
    "        tiles = [None] * n_grids\n",
    "        for n in range(n_grids):\n",
    "            y = int(n / self.grid_size)\n",
    "            x = n % self.grid_size\n",
    "            tile = img.crop([x * w, y * w, (x + 1) * w, (y + 1) * w])\n",
    "            tile = self._augment_tile(tile)\n",
    "            tiles[n] = tile\n",
    "\n",
    "        data = torch.stack(tiles, 0)\n",
    "        return self.returnFunc(data), 0, int(self.labels[index])\n"
   ]
  },
  {
   "cell_type": "code",
   "execution_count": null,
   "metadata": {},
   "outputs": [],
   "source": [
    "dataset = JigsawTestDataset(\"\", join('data/txt_lists', 'dslr_train.txt'), patches=False, classes=31)"
   ]
  },
  {
   "cell_type": "code",
   "execution_count": null,
   "metadata": {},
   "outputs": [],
   "source": [
    "sorted([np.random.randint(9) for x in range(50)])"
   ]
  },
  {
   "cell_type": "code",
   "execution_count": null,
   "metadata": {},
   "outputs": [],
   "source": [
    "import numpy as np"
   ]
  },
  {
   "cell_type": "code",
   "execution_count": null,
   "metadata": {},
   "outputs": [],
   "source": [
    "perms = np.load(\"permutations_31.npy\")\n",
    "perms"
   ]
  },
  {
   "cell_type": "code",
   "execution_count": null,
   "metadata": {},
   "outputs": [],
   "source": [
    "def stuff():\n",
    "    print(\"done\")\n",
    "\n",
    "a = {\"ciao\":0}\n",
    "try:\n",
    "    a[\"cigao\"]\n",
    "except KeyError:\n",
    "    stuff()"
   ]
  },
  {
   "cell_type": "code",
   "execution_count": null,
   "metadata": {},
   "outputs": [],
   "source": []
  }
 ],
 "metadata": {
  "kernelspec": {
   "display_name": "Python 3",
   "language": "python",
   "name": "python3"
  },
  "language_info": {
   "codemirror_mode": {
    "name": "ipython",
    "version": 3
   },
   "file_extension": ".py",
   "mimetype": "text/x-python",
   "name": "python",
   "nbconvert_exporter": "python",
   "pygments_lexer": "ipython3",
   "version": "3.6.4"
  }
 },
 "nbformat": 4,
 "nbformat_minor": 2
}
