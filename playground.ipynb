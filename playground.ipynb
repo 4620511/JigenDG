{
 "cells": [
  {
   "cell_type": "code",
   "execution_count": 1,
   "metadata": {},
   "outputs": [],
   "source": [
    "import torch\n",
    "from torch import nn\n",
    "import sys, os\n",
    "import matplotlib.pyplot as plt\n",
    "from models import caffenet\n",
    "from collections import OrderedDict\n",
    "from PIL import Image\n",
    "import numpy as np\n",
    "from torchvision import transforms\n",
    "import torchvision\n",
    "from random import random"
   ]
  },
  {
   "cell_type": "code",
   "execution_count": 16,
   "metadata": {},
   "outputs": [
    {
     "name": "stdout",
     "output_type": "stream",
     "text": [
      "Using Caffe AlexNet\n"
     ]
    }
   ],
   "source": [
    "X = torch.zeros(128,9,1024)\n",
    "net = caffenet.caffenet(10,20)"
   ]
  },
  {
   "cell_type": "code",
   "execution_count": 17,
   "metadata": {},
   "outputs": [
    {
     "ename": "AttributeError",
     "evalue": "'AlexNetCaffe' object has no attribute 'device'",
     "output_type": "error",
     "traceback": [
      "\u001b[0;31m---------------------------------------------------------------------------\u001b[0m",
      "\u001b[0;31mAttributeError\u001b[0m                            Traceback (most recent call last)",
      "\u001b[0;32m<ipython-input-17-cf935a26b0f5>\u001b[0m in \u001b[0;36m<module>\u001b[0;34m()\u001b[0m\n\u001b[0;32m----> 1\u001b[0;31m \u001b[0mnet\u001b[0m\u001b[0;34m.\u001b[0m\u001b[0mdevice\u001b[0m\u001b[0;34m\u001b[0m\u001b[0m\n\u001b[0m",
      "\u001b[0;32m~/anaconda3/envs/fastai/lib/python3.6/site-packages/torch/nn/modules/module.py\u001b[0m in \u001b[0;36m__getattr__\u001b[0;34m(self, name)\u001b[0m\n\u001b[1;32m    516\u001b[0m                 \u001b[0;32mreturn\u001b[0m \u001b[0mmodules\u001b[0m\u001b[0;34m[\u001b[0m\u001b[0mname\u001b[0m\u001b[0;34m]\u001b[0m\u001b[0;34m\u001b[0m\u001b[0m\n\u001b[1;32m    517\u001b[0m         raise AttributeError(\"'{}' object has no attribute '{}'\".format(\n\u001b[0;32m--> 518\u001b[0;31m             type(self).__name__, name))\n\u001b[0m\u001b[1;32m    519\u001b[0m \u001b[0;34m\u001b[0m\u001b[0m\n\u001b[1;32m    520\u001b[0m     \u001b[0;32mdef\u001b[0m \u001b[0m__setattr__\u001b[0m\u001b[0;34m(\u001b[0m\u001b[0mself\u001b[0m\u001b[0;34m,\u001b[0m \u001b[0mname\u001b[0m\u001b[0;34m,\u001b[0m \u001b[0mvalue\u001b[0m\u001b[0;34m)\u001b[0m\u001b[0;34m:\u001b[0m\u001b[0;34m\u001b[0m\u001b[0m\n",
      "\u001b[0;31mAttributeError\u001b[0m: 'AlexNetCaffe' object has no attribute 'device'"
     ]
    }
   ],
   "source": [
    "net.device"
   ]
  },
  {
   "cell_type": "code",
   "execution_count": 15,
   "metadata": {},
   "outputs": [
    {
     "data": {
      "text/plain": [
       "torch.Size([128, 1024])"
      ]
     },
     "execution_count": 15,
     "metadata": {},
     "output_type": "execute_result"
    }
   ],
   "source": [
    "X.mean(1).shape"
   ]
  },
  {
   "cell_type": "code",
   "execution_count": null,
   "metadata": {},
   "outputs": [],
   "source": [
    "net = AlexNetCaffeAvgPool()\n",
    "X = torch.rand(10, 3, 227,227)\n",
    "conv = net.features(X)\n",
    "out = net.classifier(conv)\n",
    "out = net.class_classifier(out)\n",
    "out.shape"
   ]
  },
  {
   "cell_type": "code",
   "execution_count": null,
   "metadata": {},
   "outputs": [],
   "source": [
    "[k for k in range(0, 20,2)]"
   ]
  },
  {
   "cell_type": "code",
   "execution_count": null,
   "metadata": {},
   "outputs": [],
   "source": [
    "state_dict = torch.load(\"models/pretrained/alexnet_caffe.pth.tar\")\n",
    "state_dict[\"jigsaw_classifier.fc7.weight\"] = state_dict[\"classifier.fc7.weight\"]\n",
    "state_dict[\"jigsaw_classifier.fc7.bias\"] = state_dict[\"classifier.fc7.bias\"]\n",
    "state_dict[\"class_classifier.fc7.weight\"] = state_dict[\"classifier.fc7.weight\"]\n",
    "state_dict[\"class_classifier.fc7.bias\"] = state_dict[\"classifier.fc7.bias\"]\n",
    "del state_dict[\"classifier.fc8.weight\"]\n",
    "del state_dict[\"classifier.fc8.bias\"]\n",
    "del state_dict[\"classifier.fc7.weight\"]\n",
    "del state_dict[\"classifier.fc7.bias\"]\n",
    "model.load_state_dict(state_dict, strict=False)\n",
    "nn.init.xavier_uniform_(model.jigsaw_classifier.fc8.weight, .1)\n",
    "nn.init.constant_(model.jigsaw_classifier.fc8.bias, 0.)\n",
    "nn.init.xavier_uniform_(model.class_classifier.fc8.weight, .1)\n",
    "nn.init.constant_(model.class_classifier.fc8.bias, 0.)"
   ]
  },
  {
   "cell_type": "code",
   "execution_count": null,
   "metadata": {},
   "outputs": [],
   "source": [
    " del state_dict[\"classifier.fc8.weight\"]\n",
    "    del state_dict[\"classifier.fc8.bias\"]\n",
    "    model.load_state_dict(state_dict, strict=False)\n",
    "    nn.init.xavier_uniform_(model.jigsaw_classifier.weight, .1)\n",
    "    nn.init.constant_(model.jigsaw_classifier.bias, 0.)\n",
    "    nn.init.xavier_uniform_(model.class_classifier.weight, .1)\n",
    "    nn.init.constant_(model.class_classifier.bias, 0.)"
   ]
  },
  {
   "cell_type": "code",
   "execution_count": null,
   "metadata": {
    "scrolled": true
   },
   "outputs": [],
   "source": [
    "def imshow(inp, title=None):\n",
    "    \"\"\"Imshow for Tensor.\"\"\"\n",
    "    inp = to_plt(inp)\n",
    "    plt.imshow(inp)\n",
    "    if title is not None:\n",
    "        plt.title(title)\n",
    "        \n",
    "def to_plt(inp):\n",
    "    inp = inp.numpy().transpose((1, 2, 0))\n",
    "    mean = np.array([0.485, 0.456, 0.406])\n",
    "    std = np.array([0.229, 0.224, 0.225])\n",
    "    inp = std * inp + mean\n",
    "    inp = np.clip(inp, 0, 1)\n",
    "    return inp"
   ]
  },
  {
   "cell_type": "code",
   "execution_count": null,
   "metadata": {
    "scrolled": false
   },
   "outputs": [],
   "source": [
    "def plot_grid(tiles):\n",
    "    fig = plt.figure(figsize=(9,9)) \n",
    "    for x in range(3):\n",
    "        for y in range(3):\n",
    "            ax = fig.add_subplot(3,3,1 + x + y*3)\n",
    "            ax.imshow(to_plt(tiles[x+y*3]))\n",
    "            ax.set_axis_off()\n",
    "            ax.set_aspect('equal')\n",
    "    plt.axis('off')\n",
    "    f.tight_layout()\n",
    "\n",
    "    plt.show()"
   ]
  },
  {
   "cell_type": "code",
   "execution_count": null,
   "metadata": {
    "scrolled": true
   },
   "outputs": [],
   "source": [
    "for k,v in enumerate(dataloader):\n",
    "#     plot_grid(v[2])\n",
    "    print(v[1])\n",
    "    if k > 15:\n",
    "        break"
   ]
  },
  {
   "cell_type": "code",
   "execution_count": null,
   "metadata": {},
   "outputs": [],
   "source": [
    "tmp[:3]"
   ]
  },
  {
   "cell_type": "code",
   "execution_count": null,
   "metadata": {},
   "outputs": [],
   "source": [
    "{name: \"asd\" + name for name in [\"ciao\",\"come\"]}"
   ]
  },
  {
   "cell_type": "code",
   "execution_count": null,
   "metadata": {},
   "outputs": [],
   "source": [
    "\n",
    "\n",
    "\n",
    "def get_dataset_info(dataset_name):\n",
    "    return get_dataset_info.lookup[dataset_name]\n",
    "\n",
    "get_dataset_info.lookup = {name: (\"/home/enoon/data/images/office/\" + name,\"/home/enoon/data/images/office/%s/train.txt\" % name)\n",
    "                           for name in [\"amazon\",\"dslr\",\"webcam\"]}"
   ]
  },
  {
   "cell_type": "code",
   "execution_count": null,
   "metadata": {},
   "outputs": [],
   "source": [
    "get_dataset_info(\"dslr\")"
   ]
  },
  {
   "cell_type": "code",
   "execution_count": null,
   "metadata": {},
   "outputs": [],
   "source": []
  }
 ],
 "metadata": {
  "kernelspec": {
   "display_name": "Python 3",
   "language": "python",
   "name": "python3"
  },
  "language_info": {
   "codemirror_mode": {
    "name": "ipython",
    "version": 3
   },
   "file_extension": ".py",
   "mimetype": "text/x-python",
   "name": "python",
   "nbconvert_exporter": "python",
   "pygments_lexer": "ipython3",
   "version": "3.6.4"
  }
 },
 "nbformat": 4,
 "nbformat_minor": 2
}
