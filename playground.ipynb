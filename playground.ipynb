{
 "cells": [
  {
   "cell_type": "code",
   "execution_count": 43,
   "metadata": {},
   "outputs": [],
   "source": [
    "import torch\n",
    "import sys\n",
    "sys.path.append(\"Dataset\")\n",
    "from JigsawImageLoader import DataLoader\n",
    "import matplotlib.pyplot as plt"
   ]
  },
  {
   "cell_type": "code",
   "execution_count": 94,
   "metadata": {},
   "outputs": [],
   "source": [
    "dataloader = DataLoader(\"\",\n",
    "                        \"/home/enoon/data/images/office/amazon_train.txt\", 1000)"
   ]
  },
  {
   "cell_type": "code",
   "execution_count": 86,
   "metadata": {},
   "outputs": [],
   "source": [
    "data = dataloader.__getitem__(0)"
   ]
  },
  {
   "cell_type": "code",
   "execution_count": 79,
   "metadata": {},
   "outputs": [
    {
     "data": {
      "text/plain": [
       "3"
      ]
     },
     "execution_count": 79,
     "metadata": {},
     "output_type": "execute_result"
    }
   ],
   "source": [
    "# dataloaders = {x: torch.utils.data.DataLoader(image_datasets[x], batch_size=10,\n",
    "#                                              shuffle=True, num_workers=4)"
   ]
  },
  {
   "cell_type": "code",
   "execution_count": 95,
   "metadata": {
    "scrolled": true
   },
   "outputs": [],
   "source": [
    "def imshow(inp, title=None):\n",
    "    \"\"\"Imshow for Tensor.\"\"\"\n",
    "    inp = to_plt(inp)\n",
    "    plt.imshow(inp)\n",
    "    if title is not None:\n",
    "        plt.title(title)\n",
    "        \n",
    "def to_plt(inp):\n",
    "    inp = inp.numpy().transpose((1, 2, 0))\n",
    "    mean = np.array([0.485, 0.456, 0.406])\n",
    "    std = np.array([0.229, 0.224, 0.225])\n",
    "    inp = std * inp + mean\n",
    "    inp = np.clip(inp, 0, 1)\n",
    "    return inp"
   ]
  },
  {
   "cell_type": "code",
   "execution_count": 96,
   "metadata": {
    "scrolled": false
   },
   "outputs": [],
   "source": [
    "def plot_grid(tiles):\n",
    "    fig = plt.figure(figsize=(9,9)) \n",
    "    for x in range(3):\n",
    "        for y in range(3):\n",
    "            ax = fig.add_subplot(3,3,1 + x + y*3)\n",
    "            ax.imshow(to_plt(tiles[x+y*3]))\n",
    "            ax.set_axis_off()\n",
    "            ax.set_aspect('equal')\n",
    "    plt.axis('off')\n",
    "    f.tight_layout()\n",
    "\n",
    "    plt.show()"
   ]
  },
  {
   "cell_type": "code",
   "execution_count": 98,
   "metadata": {
    "scrolled": true
   },
   "outputs": [
    {
     "name": "stdout",
     "output_type": "stream",
     "text": [
      "495\n",
      "735\n",
      "270\n",
      "320\n",
      "833\n",
      "347\n",
      "813\n",
      "224\n",
      "659\n",
      "343\n",
      "281\n",
      "88\n",
      "633\n",
      "305\n",
      "176\n",
      "693\n",
      "491\n"
     ]
    }
   ],
   "source": [
    "for k,v in enumerate(dataloader):\n",
    "#     plot_grid(v[2])\n",
    "    print(v[1])\n",
    "    if k > 15:\n",
    "        break"
   ]
  },
  {
   "cell_type": "code",
   "execution_count": 26,
   "metadata": {},
   "outputs": [
    {
     "data": {
      "text/plain": [
       "array([[4, 6, 8, 3, 2, 5, 1, 0, 7],\n",
       "       [0, 1, 2, 4, 3, 6, 5, 7, 8],\n",
       "       [1, 0, 3, 2, 4, 7, 6, 8, 5]])"
      ]
     },
     "execution_count": 26,
     "metadata": {},
     "output_type": "execute_result"
    }
   ],
   "source": [
    "tmp[:3]"
   ]
  },
  {
   "cell_type": "code",
   "execution_count": 99,
   "metadata": {},
   "outputs": [
    {
     "data": {
      "text/plain": [
       "{'ciao': 'asdciao', 'come': 'asdcome'}"
      ]
     },
     "execution_count": 99,
     "metadata": {},
     "output_type": "execute_result"
    }
   ],
   "source": [
    "{name: \"asd\" + name for name in [\"ciao\",\"come\"]}"
   ]
  },
  {
   "cell_type": "code",
   "execution_count": 102,
   "metadata": {},
   "outputs": [],
   "source": [
    "\n",
    "\n",
    "\n",
    "def get_dataset_info(dataset_name):\n",
    "    return get_dataset_info.lookup[dataset_name]\n",
    "\n",
    "get_dataset_info.lookup = {name: (\"/home/enoon/data/images/office/\" + name,\"/home/enoon/data/images/office/%s/train.txt\" % name)\n",
    "                           for name in [\"amazon\",\"dslr\",\"webcam\"]}"
   ]
  },
  {
   "cell_type": "code",
   "execution_count": 103,
   "metadata": {},
   "outputs": [
    {
     "data": {
      "text/plain": [
       "('/home/enoon/data/images/office/dslr',\n",
       " '/home/enoon/data/images/office/dslr/train.txt')"
      ]
     },
     "execution_count": 103,
     "metadata": {},
     "output_type": "execute_result"
    }
   ],
   "source": [
    "get_dataset_info(\"dslr\")"
   ]
  },
  {
   "cell_type": "code",
   "execution_count": null,
   "metadata": {},
   "outputs": [],
   "source": []
  }
 ],
 "metadata": {
  "kernelspec": {
   "display_name": "Python 3",
   "language": "python",
   "name": "python3"
  },
  "language_info": {
   "codemirror_mode": {
    "name": "ipython",
    "version": 3
   },
   "file_extension": ".py",
   "mimetype": "text/x-python",
   "name": "python",
   "nbconvert_exporter": "python",
   "pygments_lexer": "ipython3",
   "version": "3.6.4"
  }
 },
 "nbformat": 4,
 "nbformat_minor": 2
}
