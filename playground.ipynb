{
 "cells": [
  {
   "cell_type": "code",
   "execution_count": 37,
   "metadata": {},
   "outputs": [],
   "source": [
    "import torch\n",
    "from torch import nn\n",
    "import sys, os\n",
    "import matplotlib.pyplot as plt\n",
    "from models import caffenet\n",
    "from collections import OrderedDict\n",
    "from PIL import Image\n",
    "import numpy as np\n",
    "from torchvision import transforms\n",
    "import torchvision\n",
    "from random import random"
   ]
  },
  {
   "cell_type": "code",
   "execution_count": 38,
   "metadata": {},
   "outputs": [],
   "source": [
    "image_transformer = transforms.Compose([\n",
    "            #             transforms.Resize(256, Image.BILINEAR),\n",
    "            transforms.RandomResizedCrop(255, (0.8, 1.0))]\n",
    "        )\n",
    "augment_tile = transforms.Compose([\n",
    "    # transforms.RandomResizedCrop(75,(0.8, 1.0)),\n",
    "    transforms.Resize((75, 75), Image.BILINEAR),\n",
    "    # transforms.ColorJitter(0.1, 0.1, 0.1, 0.1),\n",
    "    transforms.RandomGrayscale(0.1),\n",
    "    transforms.ToTensor(),\n",
    "    transforms.Normalize([0.485, 0.456, 0.406], std=[1 / 256., 1 / 256., 1 / 256.])  # [0.229, 0.224, 0.225]\n",
    "])\n",
    "\n",
    "grid_size = 3\n",
    "bias_whole_image = 31\n",
    "permutations = np.load(\"permutations_31.npy\")\n",
    "img = Image.open(\"/home/enoon/data/images/PACS/kfold/photo/horse/n02374451_4538.jpg\").convert('RGB')\n",
    "img = image_transformer(img)\n",
    "\n",
    "w = float(img.size[0]) / grid_size\n",
    "n_grids = grid_size ** 2\n",
    "tiles = [None] * n_grids\n",
    "for n in range(n_grids):\n",
    "    y = int(n / grid_size)\n",
    "    x = n % grid_size\n",
    "    tile = img.crop([x * w, y * w, (x + 1) * w, (y + 1) * w])\n",
    "    tile = augment_tile(tile)\n",
    "    tiles[n] = tile"
   ]
  },
  {
   "cell_type": "code",
   "execution_count": 40,
   "metadata": {},
   "outputs": [],
   "source": [
    "order = np.random.randint(len(permutations) + 1)  # added 1 for class 0: unsorted\n",
    "images = []\n",
    "for k in range(10):\n",
    "    if bias_whole_image:\n",
    "        if bias_whole_image > random():\n",
    "            order = 0\n",
    "    if order == 0:\n",
    "        data = tiles\n",
    "    else:\n",
    "        data = [tiles[self.permutations[order - 1][t]] for t in range(n_grids)]\n",
    "    data = torch.stack(data, 0)\n",
    "    images.append(torchvision.utils.make_grid(data, grid_size, padding=0))"
   ]
  },
  {
   "cell_type": "code",
   "execution_count": 42,
   "metadata": {},
   "outputs": [
    {
     "data": {
      "text/plain": [
       "torch.Size([10, 3, 225, 225])"
      ]
     },
     "execution_count": 42,
     "metadata": {},
     "output_type": "execute_result"
    }
   ],
   "source": [
    "tmp = torch.stack(images,0)\n",
    "tmp.shape"
   ]
  },
  {
   "cell_type": "code",
   "execution_count": 46,
   "metadata": {},
   "outputs": [
    {
     "data": {
      "text/plain": [
       "[0, 2, 4, 6, 8, 10, 12, 14, 16, 18]"
      ]
     },
     "execution_count": 46,
     "metadata": {},
     "output_type": "execute_result"
    }
   ],
   "source": [
    "[k for k in range(0, 20,2)]"
   ]
  },
  {
   "cell_type": "code",
   "execution_count": 27,
   "metadata": {},
   "outputs": [
    {
     "data": {
      "text/plain": [
       "Parameter containing:\n",
       "tensor([0., 0., 0., 0., 0., 0., 0., 0., 0., 0., 0., 0., 0., 0., 0., 0., 0., 0.,\n",
       "        0., 0., 0., 0., 0., 0., 0., 0., 0., 0., 0., 0., 0., 0., 0., 0., 0., 0.,\n",
       "        0., 0., 0., 0., 0., 0., 0., 0., 0., 0., 0., 0., 0., 0., 0., 0., 0., 0.,\n",
       "        0., 0., 0., 0., 0., 0., 0., 0., 0., 0., 0., 0., 0., 0., 0., 0., 0., 0.,\n",
       "        0., 0., 0., 0., 0., 0., 0., 0., 0., 0., 0., 0., 0., 0., 0., 0., 0., 0.,\n",
       "        0., 0., 0., 0., 0., 0., 0., 0., 0., 0.], requires_grad=True)"
      ]
     },
     "execution_count": 27,
     "metadata": {},
     "output_type": "execute_result"
    }
   ],
   "source": [
    "state_dict = torch.load(\"models/pretrained/alexnet_caffe.pth.tar\")\n",
    "state_dict[\"jigsaw_classifier.fc7.weight\"] = state_dict[\"classifier.fc7.weight\"]\n",
    "state_dict[\"jigsaw_classifier.fc7.bias\"] = state_dict[\"classifier.fc7.bias\"]\n",
    "state_dict[\"class_classifier.fc7.weight\"] = state_dict[\"classifier.fc7.weight\"]\n",
    "state_dict[\"class_classifier.fc7.bias\"] = state_dict[\"classifier.fc7.bias\"]\n",
    "del state_dict[\"classifier.fc8.weight\"]\n",
    "del state_dict[\"classifier.fc8.bias\"]\n",
    "del state_dict[\"classifier.fc7.weight\"]\n",
    "del state_dict[\"classifier.fc7.bias\"]\n",
    "model.load_state_dict(state_dict, strict=False)\n",
    "nn.init.xavier_uniform_(model.jigsaw_classifier.fc8.weight, .1)\n",
    "nn.init.constant_(model.jigsaw_classifier.fc8.bias, 0.)\n",
    "nn.init.xavier_uniform_(model.class_classifier.fc8.weight, .1)\n",
    "nn.init.constant_(model.class_classifier.fc8.bias, 0.)"
   ]
  },
  {
   "cell_type": "code",
   "execution_count": null,
   "metadata": {},
   "outputs": [],
   "source": [
    " del state_dict[\"classifier.fc8.weight\"]\n",
    "    del state_dict[\"classifier.fc8.bias\"]\n",
    "    model.load_state_dict(state_dict, strict=False)\n",
    "    nn.init.xavier_uniform_(model.jigsaw_classifier.weight, .1)\n",
    "    nn.init.constant_(model.jigsaw_classifier.bias, 0.)\n",
    "    nn.init.xavier_uniform_(model.class_classifier.weight, .1)\n",
    "    nn.init.constant_(model.class_classifier.bias, 0.)"
   ]
  },
  {
   "cell_type": "code",
   "execution_count": null,
   "metadata": {
    "scrolled": true
   },
   "outputs": [],
   "source": [
    "def imshow(inp, title=None):\n",
    "    \"\"\"Imshow for Tensor.\"\"\"\n",
    "    inp = to_plt(inp)\n",
    "    plt.imshow(inp)\n",
    "    if title is not None:\n",
    "        plt.title(title)\n",
    "        \n",
    "def to_plt(inp):\n",
    "    inp = inp.numpy().transpose((1, 2, 0))\n",
    "    mean = np.array([0.485, 0.456, 0.406])\n",
    "    std = np.array([0.229, 0.224, 0.225])\n",
    "    inp = std * inp + mean\n",
    "    inp = np.clip(inp, 0, 1)\n",
    "    return inp"
   ]
  },
  {
   "cell_type": "code",
   "execution_count": null,
   "metadata": {
    "scrolled": false
   },
   "outputs": [],
   "source": [
    "def plot_grid(tiles):\n",
    "    fig = plt.figure(figsize=(9,9)) \n",
    "    for x in range(3):\n",
    "        for y in range(3):\n",
    "            ax = fig.add_subplot(3,3,1 + x + y*3)\n",
    "            ax.imshow(to_plt(tiles[x+y*3]))\n",
    "            ax.set_axis_off()\n",
    "            ax.set_aspect('equal')\n",
    "    plt.axis('off')\n",
    "    f.tight_layout()\n",
    "\n",
    "    plt.show()"
   ]
  },
  {
   "cell_type": "code",
   "execution_count": null,
   "metadata": {
    "scrolled": true
   },
   "outputs": [],
   "source": [
    "for k,v in enumerate(dataloader):\n",
    "#     plot_grid(v[2])\n",
    "    print(v[1])\n",
    "    if k > 15:\n",
    "        break"
   ]
  },
  {
   "cell_type": "code",
   "execution_count": null,
   "metadata": {},
   "outputs": [],
   "source": [
    "tmp[:3]"
   ]
  },
  {
   "cell_type": "code",
   "execution_count": null,
   "metadata": {},
   "outputs": [],
   "source": [
    "{name: \"asd\" + name for name in [\"ciao\",\"come\"]}"
   ]
  },
  {
   "cell_type": "code",
   "execution_count": null,
   "metadata": {},
   "outputs": [],
   "source": [
    "\n",
    "\n",
    "\n",
    "def get_dataset_info(dataset_name):\n",
    "    return get_dataset_info.lookup[dataset_name]\n",
    "\n",
    "get_dataset_info.lookup = {name: (\"/home/enoon/data/images/office/\" + name,\"/home/enoon/data/images/office/%s/train.txt\" % name)\n",
    "                           for name in [\"amazon\",\"dslr\",\"webcam\"]}"
   ]
  },
  {
   "cell_type": "code",
   "execution_count": null,
   "metadata": {},
   "outputs": [],
   "source": [
    "get_dataset_info(\"dslr\")"
   ]
  },
  {
   "cell_type": "code",
   "execution_count": null,
   "metadata": {},
   "outputs": [],
   "source": []
  }
 ],
 "metadata": {
  "kernelspec": {
   "display_name": "Python 3",
   "language": "python",
   "name": "python3"
  },
  "language_info": {
   "codemirror_mode": {
    "name": "ipython",
    "version": 3
   },
   "file_extension": ".py",
   "mimetype": "text/x-python",
   "name": "python",
   "nbconvert_exporter": "python",
   "pygments_lexer": "ipython3",
   "version": "3.6.4"
  }
 },
 "nbformat": 4,
 "nbformat_minor": 2
}
